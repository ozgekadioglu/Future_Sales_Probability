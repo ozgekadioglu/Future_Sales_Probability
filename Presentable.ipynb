{
 "cells": [
  {
   "cell_type": "markdown",
   "metadata": {},
   "source": [
    "## Project Description\n",
    "\n",
    "In this project, a model that can predict the probability of a customer to order a product from a given currentbugroupname in the next 3 days by using the past orders and user actions such as products visited, search terms, user favorites, and products added to the basket in addition to product details and user demographics.\n",
    "\n",
    "Note: a user can make a purchase from multiple **currentbugroupname**'s during the testing period.\n"
   ]
  },
  {
   "cell_type": "markdown",
   "metadata": {},
   "source": [
    "## Table of Contents <a id='table_of_contents'></a>\n",
    "0. [Import Packages](#imports_packages)\n",
    "1. [Data Exploration & Cleaning](#exploration)  \n",
    "    1.2. [Product Information](#df_product)  \n",
    "    1.2. [Purchase History](#df_trx)  \n",
    "    1.3. [Demographical Data](#df_demo)  \n",
    "    1.4. [Purchase Data for the Next 3 Days](#df_future)  \n",
    "    1.5. [Dataframes on User Actions](#df_action)\n",
    "2. [Data Preparation](#preparation)  \n",
    "    2.1. [Grouping and Aggregating User Actions](#grouping_actions)  \n",
    "    2.2. [Product Matrix](#matrix)  \n",
    "    2.3. [Creating Feature Columns](#create_feature)  \n",
    "    2.4. [Normalizing](#normalize)  \n",
    "3. [Benchmark Modelling](#modelling)  \n",
    "4. [Model Evaluation](#evaluation)\n"
   ]
  },
  {
   "cell_type": "markdown",
   "metadata": {},
   "source": [
    "# 0. Import Packages <a id='imports_packages'></a>\n",
    "[Back to top](#table_of_contents)"
   ]
  },
  {
   "cell_type": "code",
   "execution_count": 1,
   "metadata": {},
   "outputs": [],
   "source": [
    "import pandas as pd\n",
    "import numpy as np\n",
    "import seaborn as sns\n",
    "import matplotlib.pyplot as plt\n",
    "from datetime import datetime, timedelta\n",
    "from itertools import product\n",
    "import datetime \n",
    "\n",
    "from sklearn.preprocessing import LabelEncoder\n",
    "from sklearn.model_selection import train_test_split\n",
    "\n",
    "from sklearn.feature_selection import RFE\n",
    "from sklearn.linear_model import LogisticRegression\n",
    "from sklearn import metrics\n",
    "from sklearn.metrics import confusion_matrix\n",
    "\n",
    "from sklearn import preprocessing"
   ]
  },
  {
   "cell_type": "markdown",
   "metadata": {},
   "source": [
    "## 1. Data Exploration & Cleaning <a id='exploration'></a>\n",
    "[Back to top](#table_of_contents)"
   ]
  },
  {
   "cell_type": "markdown",
   "metadata": {},
   "source": [
    "Below there will be several subtitles referring to the files I have been provided."
   ]
  },
  {
   "cell_type": "markdown",
   "metadata": {},
   "source": [
    "### 1.1. Product Information <a id='df_product'></a>\n",
    "[Back to top](#table_of_contents)"
   ]
  },
  {
   "cell_type": "markdown",
   "metadata": {},
   "source": [
    "Products' information data\n",
    "- **contentid:** Unique ID given to the product.\n",
    "- **currentbugroupname:** Business Group Name (can be thought of as a broader category) of the product.\n",
    "- **brandid:** Unique ID given to the brand of the product.\n",
    "- **gender:** Target gender group of the product.\n",
    "- **age:** Target age group of the product.\n",
    "- **title:** Title of the product.\n",
    "- **categoryname:** Category name of the product.\n"
   ]
  },
  {
   "cell_type": "code",
   "execution_count": 2,
   "metadata": {},
   "outputs": [
    {
     "name": "stdout",
     "output_type": "stream",
     "text": [
      "(1441753, 7)\n"
     ]
    },
    {
     "data": {
      "text/html": [
       "<div>\n",
       "<style scoped>\n",
       "    .dataframe tbody tr th:only-of-type {\n",
       "        vertical-align: middle;\n",
       "    }\n",
       "\n",
       "    .dataframe tbody tr th {\n",
       "        vertical-align: top;\n",
       "    }\n",
       "\n",
       "    .dataframe thead th {\n",
       "        text-align: right;\n",
       "    }\n",
       "</style>\n",
       "<table border=\"1\" class=\"dataframe\">\n",
       "  <thead>\n",
       "    <tr style=\"text-align: right;\">\n",
       "      <th></th>\n",
       "      <th>contentid</th>\n",
       "      <th>currentbugroupname</th>\n",
       "      <th>brandid</th>\n",
       "      <th>gender</th>\n",
       "      <th>age</th>\n",
       "      <th>title</th>\n",
       "      <th>categoryname</th>\n",
       "    </tr>\n",
       "  </thead>\n",
       "  <tbody>\n",
       "    <tr>\n",
       "      <th>0</th>\n",
       "      <td>40100964</td>\n",
       "      <td>Ayakkabı &amp; Çanta</td>\n",
       "      <td>37787</td>\n",
       "      <td>Erkek</td>\n",
       "      <td>Yetişkin</td>\n",
       "      <td>Siyah Kauçuk Taban Büyük Numara Spor Ayakkab R...</td>\n",
       "      <td>Klasik Ayakkabı</td>\n",
       "    </tr>\n",
       "    <tr>\n",
       "      <th>1</th>\n",
       "      <td>40427970</td>\n",
       "      <td>Branded Tekstil</td>\n",
       "      <td>169</td>\n",
       "      <td>Kadın</td>\n",
       "      <td>Yetişkin</td>\n",
       "      <td>Kadın Siyah Çizgili Cepli Kuşaklı Pantolon</td>\n",
       "      <td>Pantolon</td>\n",
       "    </tr>\n",
       "    <tr>\n",
       "      <th>2</th>\n",
       "      <td>41026644</td>\n",
       "      <td>FMCG</td>\n",
       "      <td>20150</td>\n",
       "      <td>Unisex</td>\n",
       "      <td>Yetişkin</td>\n",
       "      <td>Color Growth Healt Formula (800-1200) 100gr Aç...</td>\n",
       "      <td>Akvaryum Balık Yemleri</td>\n",
       "    </tr>\n",
       "    <tr>\n",
       "      <th>3</th>\n",
       "      <td>41227029</td>\n",
       "      <td>Branded Tekstil</td>\n",
       "      <td>11806</td>\n",
       "      <td>Kadın</td>\n",
       "      <td>Yetişkin</td>\n",
       "      <td>Kadın  Pamuk Paçalı Ribana Külot B005</td>\n",
       "      <td>Külot</td>\n",
       "    </tr>\n",
       "    <tr>\n",
       "      <th>4</th>\n",
       "      <td>40770080</td>\n",
       "      <td>Ev</td>\n",
       "      <td>2195</td>\n",
       "      <td>Unisex</td>\n",
       "      <td>Yetişkin</td>\n",
       "      <td>Suki - Sushi Seti 8 Parça</td>\n",
       "      <td>Tabak</td>\n",
       "    </tr>\n",
       "  </tbody>\n",
       "</table>\n",
       "</div>"
      ],
      "text/plain": [
       "   contentid currentbugroupname  brandid  gender       age  \\\n",
       "0   40100964   Ayakkabı & Çanta    37787   Erkek  Yetişkin   \n",
       "1   40427970    Branded Tekstil      169   Kadın  Yetişkin   \n",
       "2   41026644               FMCG    20150  Unisex  Yetişkin   \n",
       "3   41227029    Branded Tekstil    11806   Kadın  Yetişkin   \n",
       "4   40770080                 Ev     2195  Unisex  Yetişkin   \n",
       "\n",
       "                                               title            categoryname  \n",
       "0  Siyah Kauçuk Taban Büyük Numara Spor Ayakkab R...         Klasik Ayakkabı  \n",
       "1         Kadın Siyah Çizgili Cepli Kuşaklı Pantolon                Pantolon  \n",
       "2  Color Growth Healt Formula (800-1200) 100gr Aç...  Akvaryum Balık Yemleri  \n",
       "3              Kadın  Pamuk Paçalı Ribana Külot B005                   Külot  \n",
       "4                          Suki - Sushi Seti 8 Parça                   Tabak  "
      ]
     },
     "execution_count": 2,
     "metadata": {},
     "output_type": "execute_result"
    }
   ],
   "source": [
    "df_product = pd.read_csv('df_product.csv')\n",
    "print(df_product.shape)\n",
    "df_product.head(5)\n"
   ]
  },
  {
   "cell_type": "code",
   "execution_count": 3,
   "metadata": {},
   "outputs": [
    {
     "data": {
      "text/plain": [
       "<AxesSubplot:>"
      ]
     },
     "execution_count": 3,
     "metadata": {},
     "output_type": "execute_result"
    },
    {
     "data": {
      "image/png": "[encoded data removed]",
      "text/plain": [
       "<Figure size 648x144 with 2 Axes>"
      ]
     },
     "metadata": {
      "needs_background": "light"
     },
     "output_type": "display_data"
    }
   ],
   "source": [
    "fig, axes = plt.subplots(nrows=1, ncols=2, figsize=[9, 2])\n",
    "df_product['gender'].value_counts().plot(kind='bar', ax=axes[0])\n",
    "df_product['age'].value_counts().plot(kind='bar', ax=axes[1])"
   ]
  },
  {
   "cell_type": "code",
   "execution_count": 4,
   "metadata": {},
   "outputs": [
    {
     "name": "stdout",
     "output_type": "stream",
     "text": [
      "['Ayakkabı & Çanta' 'Branded Tekstil' 'FMCG' 'Ev' 'GAS' 'GM' 'Elektronik'\n",
      " 'Kozmetik' 'Aksesuar & Saat & Gözlük' 'Private Label' 'Mobilya' 'UNKNOWN'\n",
      " 'Digital Goods']\n",
      "13\n"
     ]
    }
   ],
   "source": [
    "print(df_product.currentbugroupname.unique())\n",
    "print(df_product.currentbugroupname.nunique())"
   ]
  },
  {
   "cell_type": "markdown",
   "metadata": {},
   "source": [
    "Note that there is a bugroupname called UNKNOWN."
   ]
  },
  {
   "cell_type": "code",
   "execution_count": 5,
   "metadata": {},
   "outputs": [
    {
     "data": {
      "text/plain": [
       "contentid  currentbugroupname  brandid  gender  age    title  categoryname\n",
       "False      False               False    False   False  False  False           1127957\n",
       "                                        True    True   False  False            219170\n",
       "                                        False   True   False  False             91789\n",
       "                                        True    False  False  False              2249\n",
       "                                        False   False  True   False               341\n",
       "                                        True    True   True   False               163\n",
       "                                        False   True   True   False                84\n",
       "dtype: int64"
      ]
     },
     "execution_count": 5,
     "metadata": {},
     "output_type": "execute_result"
    }
   ],
   "source": [
    "df_product.isna().value_counts()"
   ]
  },
  {
   "cell_type": "markdown",
   "metadata": {},
   "source": [
    "In df_product there are nearly 300,000 items that we do not have information regarding the target group such as gender or age. Since I will create my model mainly considering the historical purchase data, I anticipate that target group of the items do not necessarily have an effect on the model performances. I decided not to use these columns as a feature column. Another option would be removing the rows with NaN however the amount of data points to be removed is significant considering the total amount."
   ]
  },
  {
   "cell_type": "code",
   "execution_count": 6,
   "metadata": {},
   "outputs": [
    {
     "data": {
      "text/html": [
       "<div>\n",
       "<style scoped>\n",
       "    .dataframe tbody tr th:only-of-type {\n",
       "        vertical-align: middle;\n",
       "    }\n",
       "\n",
       "    .dataframe tbody tr th {\n",
       "        vertical-align: top;\n",
       "    }\n",
       "\n",
       "    .dataframe thead th {\n",
       "        text-align: right;\n",
       "    }\n",
       "</style>\n",
       "<table border=\"1\" class=\"dataframe\">\n",
       "  <thead>\n",
       "    <tr style=\"text-align: right;\">\n",
       "      <th></th>\n",
       "      <th>contentid</th>\n",
       "      <th>currentbugroupname</th>\n",
       "      <th>categoryname</th>\n",
       "    </tr>\n",
       "  </thead>\n",
       "  <tbody>\n",
       "    <tr>\n",
       "      <th>0</th>\n",
       "      <td>40100964</td>\n",
       "      <td>Ayakkabı &amp; Çanta</td>\n",
       "      <td>Klasik Ayakkabı</td>\n",
       "    </tr>\n",
       "    <tr>\n",
       "      <th>1</th>\n",
       "      <td>40427970</td>\n",
       "      <td>Branded Tekstil</td>\n",
       "      <td>Pantolon</td>\n",
       "    </tr>\n",
       "    <tr>\n",
       "      <th>2</th>\n",
       "      <td>41026644</td>\n",
       "      <td>FMCG</td>\n",
       "      <td>Akvaryum Balık Yemleri</td>\n",
       "    </tr>\n",
       "    <tr>\n",
       "      <th>3</th>\n",
       "      <td>41227029</td>\n",
       "      <td>Branded Tekstil</td>\n",
       "      <td>Külot</td>\n",
       "    </tr>\n",
       "    <tr>\n",
       "      <th>4</th>\n",
       "      <td>40770080</td>\n",
       "      <td>Ev</td>\n",
       "      <td>Tabak</td>\n",
       "    </tr>\n",
       "    <tr>\n",
       "      <th>...</th>\n",
       "      <td>...</td>\n",
       "      <td>...</td>\n",
       "      <td>...</td>\n",
       "    </tr>\n",
       "    <tr>\n",
       "      <th>1441748</th>\n",
       "      <td>34244637</td>\n",
       "      <td>Kozmetik</td>\n",
       "      <td>Parfüm</td>\n",
       "    </tr>\n",
       "    <tr>\n",
       "      <th>1441749</th>\n",
       "      <td>49936434</td>\n",
       "      <td>GM</td>\n",
       "      <td>Diğer Oda Aksesuarları</td>\n",
       "    </tr>\n",
       "    <tr>\n",
       "      <th>1441750</th>\n",
       "      <td>51658518</td>\n",
       "      <td>Branded Tekstil</td>\n",
       "      <td>Tesettür Elbise</td>\n",
       "    </tr>\n",
       "    <tr>\n",
       "      <th>1441751</th>\n",
       "      <td>52218496</td>\n",
       "      <td>Ayakkabı &amp; Çanta</td>\n",
       "      <td>El Çantası</td>\n",
       "    </tr>\n",
       "    <tr>\n",
       "      <th>1441752</th>\n",
       "      <td>36892036</td>\n",
       "      <td>Ev</td>\n",
       "      <td>Bardak</td>\n",
       "    </tr>\n",
       "  </tbody>\n",
       "</table>\n",
       "<p>1441753 rows × 3 columns</p>\n",
       "</div>"
      ],
      "text/plain": [
       "         contentid currentbugroupname            categoryname\n",
       "0         40100964   Ayakkabı & Çanta         Klasik Ayakkabı\n",
       "1         40427970    Branded Tekstil                Pantolon\n",
       "2         41026644               FMCG  Akvaryum Balık Yemleri\n",
       "3         41227029    Branded Tekstil                   Külot\n",
       "4         40770080                 Ev                   Tabak\n",
       "...            ...                ...                     ...\n",
       "1441748   34244637           Kozmetik                  Parfüm\n",
       "1441749   49936434                 GM  Diğer Oda Aksesuarları\n",
       "1441750   51658518    Branded Tekstil         Tesettür Elbise\n",
       "1441751   52218496   Ayakkabı & Çanta              El Çantası\n",
       "1441752   36892036                 Ev                  Bardak\n",
       "\n",
       "[1441753 rows x 3 columns]"
      ]
     },
     "execution_count": 6,
     "metadata": {},
     "output_type": "execute_result"
    }
   ],
   "source": [
    "#removing the columns named title, gender, age, and brandid and creating a new data frame called product list.\n",
    "product_list = df_product.drop(['brandid', 'age', 'gender', 'title'], axis=1)\n",
    "product_list[product_list.isna()==False]"
   ]
  },
  {
   "cell_type": "markdown",
   "metadata": {},
   "source": [
    "### 1.2. Demographical Data <a id='df_demo'></a>\n",
    "[Back to top](#table_of_contents)"
   ]
  },
  {
   "cell_type": "markdown",
   "metadata": {},
   "source": [
    "Users' demographics data\n",
    "- **userid:** Unique ID given to the user.\n",
    "- **gender:** Specified gender of the user.\n",
    "- **age:** Specified age of the user.\n",
    "- **tenure:** Membership age of the user."
   ]
  },
  {
   "cell_type": "code",
   "execution_count": 7,
   "metadata": {},
   "outputs": [
    {
     "data": {
      "text/html": [
       "<div>\n",
       "<style scoped>\n",
       "    .dataframe tbody tr th:only-of-type {\n",
       "        vertical-align: middle;\n",
       "    }\n",
       "\n",
       "    .dataframe tbody tr th {\n",
       "        vertical-align: top;\n",
       "    }\n",
       "\n",
       "    .dataframe thead th {\n",
       "        text-align: right;\n",
       "    }\n",
       "</style>\n",
       "<table border=\"1\" class=\"dataframe\">\n",
       "  <thead>\n",
       "    <tr style=\"text-align: right;\">\n",
       "      <th></th>\n",
       "      <th>userid</th>\n",
       "      <th>age</th>\n",
       "      <th>tenure</th>\n",
       "    </tr>\n",
       "  </thead>\n",
       "  <tbody>\n",
       "    <tr>\n",
       "      <th>count</th>\n",
       "      <td>4.080700e+04</td>\n",
       "      <td>25204.000000</td>\n",
       "      <td>40807.000000</td>\n",
       "    </tr>\n",
       "    <tr>\n",
       "      <th>mean</th>\n",
       "      <td>1.922032e+07</td>\n",
       "      <td>214.540351</td>\n",
       "      <td>41.772269</td>\n",
       "    </tr>\n",
       "    <tr>\n",
       "      <th>std</th>\n",
       "      <td>1.127785e+07</td>\n",
       "      <td>545.518265</td>\n",
       "      <td>39.807200</td>\n",
       "    </tr>\n",
       "    <tr>\n",
       "      <th>min</th>\n",
       "      <td>2.086000e+03</td>\n",
       "      <td>-48.000000</td>\n",
       "      <td>0.000000</td>\n",
       "    </tr>\n",
       "    <tr>\n",
       "      <th>25%</th>\n",
       "      <td>1.106792e+07</td>\n",
       "      <td>27.000000</td>\n",
       "      <td>11.000000</td>\n",
       "    </tr>\n",
       "    <tr>\n",
       "      <th>50%</th>\n",
       "      <td>1.753366e+07</td>\n",
       "      <td>35.000000</td>\n",
       "      <td>24.000000</td>\n",
       "    </tr>\n",
       "    <tr>\n",
       "      <th>75%</th>\n",
       "      <td>2.722423e+07</td>\n",
       "      <td>120.000000</td>\n",
       "      <td>66.000000</td>\n",
       "    </tr>\n",
       "    <tr>\n",
       "      <th>max</th>\n",
       "      <td>4.462565e+07</td>\n",
       "      <td>2019.000000</td>\n",
       "      <td>129.000000</td>\n",
       "    </tr>\n",
       "  </tbody>\n",
       "</table>\n",
       "</div>"
      ],
      "text/plain": [
       "             userid           age        tenure\n",
       "count  4.080700e+04  25204.000000  40807.000000\n",
       "mean   1.922032e+07    214.540351     41.772269\n",
       "std    1.127785e+07    545.518265     39.807200\n",
       "min    2.086000e+03    -48.000000      0.000000\n",
       "25%    1.106792e+07     27.000000     11.000000\n",
       "50%    1.753366e+07     35.000000     24.000000\n",
       "75%    2.722423e+07    120.000000     66.000000\n",
       "max    4.462565e+07   2019.000000    129.000000"
      ]
     },
     "execution_count": 7,
     "metadata": {},
     "output_type": "execute_result"
    }
   ],
   "source": [
    "df_demo = pd.read_csv('df_demo.csv')\n",
    "df_demo.describe()"
   ]
  },
  {
   "cell_type": "code",
   "execution_count": 8,
   "metadata": {},
   "outputs": [
    {
     "name": "stdout",
     "output_type": "stream",
     "text": [
      "(4, 4)\n",
      "(18077, 4)\n",
      "(40807, 4)\n"
     ]
    }
   ],
   "source": [
    "print(df_demo[df_demo.age<=0].shape)\n",
    "print(df_demo[df_demo.age<100].shape)\n",
    "print(df_demo.shape)"
   ]
  },
  {
   "cell_type": "markdown",
   "metadata": {},
   "source": [
    "I chose not to delete any rows from demographical data because they are not essential for the model at this stage."
   ]
  },
  {
   "cell_type": "code",
   "execution_count": 9,
   "metadata": {},
   "outputs": [
    {
     "data": {
      "text/plain": [
       "<AxesSubplot:>"
      ]
     },
     "execution_count": 9,
     "metadata": {},
     "output_type": "execute_result"
    },
    {
     "data": {
      "image/png": "[encoded data removed]",
      "text/plain": [
       "<Figure size 1080x144 with 2 Axes>"
      ]
     },
     "metadata": {
      "needs_background": "light"
     },
     "output_type": "display_data"
    }
   ],
   "source": [
    "fig, axes = plt.subplots(nrows=1, ncols=2, figsize=[15, 2])\n",
    "df_demo.plot.box(ax=axes[0], x='userid', y='age', vert=False)\n",
    "df_demo.plot.box(ax=axes[1], x='userid', y='tenure', vert=False)"
   ]
  },
  {
   "cell_type": "markdown",
   "metadata": {},
   "source": [
    "The unit of tenure was assumed to be weeks considering the fact that the company was founded in 2010. \n",
    "Age of the users looks quite misleading since there are certainly rows with unrealistitic values such as >100 and =<0 (perhaps <18 too>). While 50% of the users are younger than 35 sounds realistic, min age=-48 and max age=2019 are completely mistaken.\n",
    "\n",
    "I do not delete any rows in accordance with the ages because I do not want to miss 18081 of 40807 datapoints. I would reconsider this option if I definetely were to use users' age. Instead, I will use the tenure since I assume that tenure information comes from the company's databases while the stakes are high that people use fake birth dates during their user registration or that mistakes may have occured while extracting or producing the data.\n"
   ]
  },
  {
   "cell_type": "code",
   "execution_count": 10,
   "metadata": {},
   "outputs": [
    {
     "data": {
      "image/png": "[encoded data removed]",
      "text/plain": [
       "<Figure size 288x216 with 1 Axes>"
      ]
     },
     "metadata": {
      "needs_background": "light"
     },
     "output_type": "display_data"
    },
    {
     "data": {
      "text/plain": [
       "Bayan               31202\n",
       "Bay                  9378\n",
       "UNKNOWN               218\n",
       "kvkktalepsilindi        9\n",
       "Name: gender, dtype: int64"
      ]
     },
     "execution_count": 10,
     "metadata": {},
     "output_type": "execute_result"
    }
   ],
   "source": [
    "fig, plt.subplots(figsize=[4, 3])\n",
    "df_demo['gender'].value_counts().plot(kind='bar')\n",
    "plt.show()\n",
    "\n",
    "df_demo.gender.value_counts() #9 rows with unrealistic genders."
   ]
  },
  {
   "cell_type": "code",
   "execution_count": 11,
   "metadata": {},
   "outputs": [
    {
     "data": {
      "text/plain": [
       "userid  gender  tenure\n",
       "False   False   False     40807\n",
       "dtype: int64"
      ]
     },
     "execution_count": 11,
     "metadata": {},
     "output_type": "execute_result"
    }
   ],
   "source": [
    "demo_list = df_demo.drop(['age'], axis=1)\n",
    "demo_list.isna().value_counts()"
   ]
  },
  {
   "cell_type": "markdown",
   "metadata": {},
   "source": [
    "### 1.3. Purchase History <a id='df_trx'></a>\n",
    "[Back to top](#table_of_contents)"
   ]
  },
  {
   "cell_type": "markdown",
   "metadata": {},
   "source": [
    "Users' product purchase data \n",
    "- **orderdate:** Date and hour of the \"product purchase\" event.\n",
    "- **quantity:** How many units of this product is purchased during this orderdate.\n",
    "- **price:** Price of the purchased product.\n"
   ]
  },
  {
   "cell_type": "code",
   "execution_count": 12,
   "metadata": {},
   "outputs": [
    {
     "name": "stdout",
     "output_type": "stream",
     "text": [
      "     userid   contentid                orderdate  quantity   price\n",
      "0  16049866  49489653.0  2020-10-31 03:00:00.000         1  199.95\n",
      "1  14167874  42484094.0  2020-10-31 03:00:00.000         1   69.99\n",
      "2  14167874  39373962.0  2020-10-31 03:00:00.000         1   69.99\n",
      "3  13918576  32765999.0  2020-10-31 03:00:00.000         1   43.99\n",
      "4  10323124  46471016.0  2020-10-31 03:00:00.000         1   58.32\n"
     ]
    },
    {
     "data": {
      "text/html": [
       "<div>\n",
       "<style scoped>\n",
       "    .dataframe tbody tr th:only-of-type {\n",
       "        vertical-align: middle;\n",
       "    }\n",
       "\n",
       "    .dataframe tbody tr th {\n",
       "        vertical-align: top;\n",
       "    }\n",
       "\n",
       "    .dataframe thead th {\n",
       "        text-align: right;\n",
       "    }\n",
       "</style>\n",
       "<table border=\"1\" class=\"dataframe\">\n",
       "  <thead>\n",
       "    <tr style=\"text-align: right;\">\n",
       "      <th></th>\n",
       "      <th>userid</th>\n",
       "      <th>contentid</th>\n",
       "      <th>quantity</th>\n",
       "      <th>price</th>\n",
       "    </tr>\n",
       "  </thead>\n",
       "  <tbody>\n",
       "    <tr>\n",
       "      <th>count</th>\n",
       "      <td>3.815360e+05</td>\n",
       "      <td>3.815250e+05</td>\n",
       "      <td>381536.000000</td>\n",
       "      <td>381536.000000</td>\n",
       "    </tr>\n",
       "    <tr>\n",
       "      <th>mean</th>\n",
       "      <td>1.577879e+07</td>\n",
       "      <td>3.351160e+07</td>\n",
       "      <td>1.093795</td>\n",
       "      <td>83.813233</td>\n",
       "    </tr>\n",
       "    <tr>\n",
       "      <th>std</th>\n",
       "      <td>1.040496e+07</td>\n",
       "      <td>1.626854e+07</td>\n",
       "      <td>0.495301</td>\n",
       "      <td>245.595041</td>\n",
       "    </tr>\n",
       "    <tr>\n",
       "      <th>min</th>\n",
       "      <td>2.086000e+03</td>\n",
       "      <td>4.869100e+04</td>\n",
       "      <td>1.000000</td>\n",
       "      <td>0.080000</td>\n",
       "    </tr>\n",
       "    <tr>\n",
       "      <th>25%</th>\n",
       "      <td>8.293054e+06</td>\n",
       "      <td>3.162247e+07</td>\n",
       "      <td>1.000000</td>\n",
       "      <td>26.550000</td>\n",
       "    </tr>\n",
       "    <tr>\n",
       "      <th>50%</th>\n",
       "      <td>1.389528e+07</td>\n",
       "      <td>3.775790e+07</td>\n",
       "      <td>1.000000</td>\n",
       "      <td>48.630000</td>\n",
       "    </tr>\n",
       "    <tr>\n",
       "      <th>75%</th>\n",
       "      <td>2.225621e+07</td>\n",
       "      <td>4.612945e+07</td>\n",
       "      <td>1.000000</td>\n",
       "      <td>82.500000</td>\n",
       "    </tr>\n",
       "    <tr>\n",
       "      <th>max</th>\n",
       "      <td>4.446816e+07</td>\n",
       "      <td>5.590954e+07</td>\n",
       "      <td>10.000000</td>\n",
       "      <td>16690.610000</td>\n",
       "    </tr>\n",
       "  </tbody>\n",
       "</table>\n",
       "</div>"
      ],
      "text/plain": [
       "             userid     contentid       quantity          price\n",
       "count  3.815360e+05  3.815250e+05  381536.000000  381536.000000\n",
       "mean   1.577879e+07  3.351160e+07       1.093795      83.813233\n",
       "std    1.040496e+07  1.626854e+07       0.495301     245.595041\n",
       "min    2.086000e+03  4.869100e+04       1.000000       0.080000\n",
       "25%    8.293054e+06  3.162247e+07       1.000000      26.550000\n",
       "50%    1.389528e+07  3.775790e+07       1.000000      48.630000\n",
       "75%    2.225621e+07  4.612945e+07       1.000000      82.500000\n",
       "max    4.446816e+07  5.590954e+07      10.000000   16690.610000"
      ]
     },
     "execution_count": 12,
     "metadata": {},
     "output_type": "execute_result"
    }
   ],
   "source": [
    "df_trx = pd.read_csv('df_trx.csv')\n",
    "print(df_trx.head())\n",
    "df_trx.describe()"
   ]
  },
  {
   "cell_type": "code",
   "execution_count": 13,
   "metadata": {},
   "outputs": [],
   "source": [
    "# any duplicated rows or rows with NaN values were deleted.\n",
    "df_trx = df_trx.drop_duplicates()\n",
    "df_trx = df_trx.dropna()"
   ]
  },
  {
   "cell_type": "code",
   "execution_count": 14,
   "metadata": {},
   "outputs": [
    {
     "data": {
      "text/html": [
       "<div>\n",
       "<style scoped>\n",
       "    .dataframe tbody tr th:only-of-type {\n",
       "        vertical-align: middle;\n",
       "    }\n",
       "\n",
       "    .dataframe tbody tr th {\n",
       "        vertical-align: top;\n",
       "    }\n",
       "\n",
       "    .dataframe thead th {\n",
       "        text-align: right;\n",
       "    }\n",
       "</style>\n",
       "<table border=\"1\" class=\"dataframe\">\n",
       "  <thead>\n",
       "    <tr style=\"text-align: right;\">\n",
       "      <th></th>\n",
       "      <th>userid</th>\n",
       "      <th>contentid</th>\n",
       "      <th>orderdate</th>\n",
       "      <th>quantity</th>\n",
       "      <th>price</th>\n",
       "    </tr>\n",
       "  </thead>\n",
       "  <tbody>\n",
       "    <tr>\n",
       "      <th>0</th>\n",
       "      <td>16049866</td>\n",
       "      <td>49489653.0</td>\n",
       "      <td>2020-10-31 03:00:00.000</td>\n",
       "      <td>1</td>\n",
       "      <td>199.95</td>\n",
       "    </tr>\n",
       "    <tr>\n",
       "      <th>1</th>\n",
       "      <td>14167874</td>\n",
       "      <td>42484094.0</td>\n",
       "      <td>2020-10-31 03:00:00.000</td>\n",
       "      <td>1</td>\n",
       "      <td>69.99</td>\n",
       "    </tr>\n",
       "    <tr>\n",
       "      <th>2</th>\n",
       "      <td>14167874</td>\n",
       "      <td>39373962.0</td>\n",
       "      <td>2020-10-31 03:00:00.000</td>\n",
       "      <td>1</td>\n",
       "      <td>69.99</td>\n",
       "    </tr>\n",
       "    <tr>\n",
       "      <th>3</th>\n",
       "      <td>13918576</td>\n",
       "      <td>32765999.0</td>\n",
       "      <td>2020-10-31 03:00:00.000</td>\n",
       "      <td>1</td>\n",
       "      <td>43.99</td>\n",
       "    </tr>\n",
       "    <tr>\n",
       "      <th>4</th>\n",
       "      <td>10323124</td>\n",
       "      <td>46471016.0</td>\n",
       "      <td>2020-10-31 03:00:00.000</td>\n",
       "      <td>1</td>\n",
       "      <td>58.32</td>\n",
       "    </tr>\n",
       "  </tbody>\n",
       "</table>\n",
       "</div>"
      ],
      "text/plain": [
       "     userid   contentid                orderdate  quantity   price\n",
       "0  16049866  49489653.0  2020-10-31 03:00:00.000         1  199.95\n",
       "1  14167874  42484094.0  2020-10-31 03:00:00.000         1   69.99\n",
       "2  14167874  39373962.0  2020-10-31 03:00:00.000         1   69.99\n",
       "3  13918576  32765999.0  2020-10-31 03:00:00.000         1   43.99\n",
       "4  10323124  46471016.0  2020-10-31 03:00:00.000         1   58.32"
      ]
     },
     "execution_count": 14,
     "metadata": {},
     "output_type": "execute_result"
    }
   ],
   "source": [
    "df_trx.head(5)"
   ]
  },
  {
   "cell_type": "markdown",
   "metadata": {},
   "source": [
    "Below, I create a new dataframe called order_history where I store information about the orders in the past. \n",
    "- Creating date and hour column.\n",
    "- Adding currentbugroupname with left_join to order_history from product_list."
   ]
  },
  {
   "cell_type": "code",
   "execution_count": 15,
   "metadata": {},
   "outputs": [
    {
     "data": {
      "text/html": [
       "<div>\n",
       "<style scoped>\n",
       "    .dataframe tbody tr th:only-of-type {\n",
       "        vertical-align: middle;\n",
       "    }\n",
       "\n",
       "    .dataframe tbody tr th {\n",
       "        vertical-align: top;\n",
       "    }\n",
       "\n",
       "    .dataframe thead th {\n",
       "        text-align: right;\n",
       "    }\n",
       "</style>\n",
       "<table border=\"1\" class=\"dataframe\">\n",
       "  <thead>\n",
       "    <tr style=\"text-align: right;\">\n",
       "      <th></th>\n",
       "      <th>userid</th>\n",
       "      <th>contentid</th>\n",
       "      <th>orderdate</th>\n",
       "      <th>quantity</th>\n",
       "      <th>price</th>\n",
       "      <th>currentbugroupname</th>\n",
       "      <th>categoryname</th>\n",
       "      <th>gender</th>\n",
       "      <th>tenure</th>\n",
       "      <th>order_hour</th>\n",
       "      <th>order_date</th>\n",
       "      <th>which_day</th>\n",
       "    </tr>\n",
       "  </thead>\n",
       "  <tbody>\n",
       "    <tr>\n",
       "      <th>0</th>\n",
       "      <td>16049866</td>\n",
       "      <td>49489653.0</td>\n",
       "      <td>2020-10-31 03:00:00</td>\n",
       "      <td>1</td>\n",
       "      <td>199.95</td>\n",
       "      <td>Branded Tekstil</td>\n",
       "      <td>Sweatshirt</td>\n",
       "      <td>Bayan</td>\n",
       "      <td>30</td>\n",
       "      <td>3</td>\n",
       "      <td>2020-10-31</td>\n",
       "      <td>5</td>\n",
       "    </tr>\n",
       "    <tr>\n",
       "      <th>1</th>\n",
       "      <td>14167874</td>\n",
       "      <td>42484094.0</td>\n",
       "      <td>2020-10-31 03:00:00</td>\n",
       "      <td>1</td>\n",
       "      <td>69.99</td>\n",
       "      <td>Private Label</td>\n",
       "      <td>Kazak</td>\n",
       "      <td>Bayan</td>\n",
       "      <td>37</td>\n",
       "      <td>3</td>\n",
       "      <td>2020-10-31</td>\n",
       "      <td>5</td>\n",
       "    </tr>\n",
       "    <tr>\n",
       "      <th>2</th>\n",
       "      <td>14167874</td>\n",
       "      <td>39373962.0</td>\n",
       "      <td>2020-10-31 03:00:00</td>\n",
       "      <td>1</td>\n",
       "      <td>69.99</td>\n",
       "      <td>Private Label</td>\n",
       "      <td>Kazak</td>\n",
       "      <td>Bayan</td>\n",
       "      <td>37</td>\n",
       "      <td>3</td>\n",
       "      <td>2020-10-31</td>\n",
       "      <td>5</td>\n",
       "    </tr>\n",
       "    <tr>\n",
       "      <th>3</th>\n",
       "      <td>13918576</td>\n",
       "      <td>32765999.0</td>\n",
       "      <td>2020-10-31 03:00:00</td>\n",
       "      <td>1</td>\n",
       "      <td>43.99</td>\n",
       "      <td>Ev</td>\n",
       "      <td>Tava&amp;Tava Seti</td>\n",
       "      <td>Bayan</td>\n",
       "      <td>39</td>\n",
       "      <td>3</td>\n",
       "      <td>2020-10-31</td>\n",
       "      <td>5</td>\n",
       "    </tr>\n",
       "    <tr>\n",
       "      <th>4</th>\n",
       "      <td>10323124</td>\n",
       "      <td>46471016.0</td>\n",
       "      <td>2020-10-31 03:00:00</td>\n",
       "      <td>1</td>\n",
       "      <td>58.32</td>\n",
       "      <td>Private Label</td>\n",
       "      <td>Gömlek</td>\n",
       "      <td>Bayan</td>\n",
       "      <td>79</td>\n",
       "      <td>3</td>\n",
       "      <td>2020-10-31</td>\n",
       "      <td>5</td>\n",
       "    </tr>\n",
       "  </tbody>\n",
       "</table>\n",
       "</div>"
      ],
      "text/plain": [
       "     userid   contentid           orderdate  quantity   price  \\\n",
       "0  16049866  49489653.0 2020-10-31 03:00:00         1  199.95   \n",
       "1  14167874  42484094.0 2020-10-31 03:00:00         1   69.99   \n",
       "2  14167874  39373962.0 2020-10-31 03:00:00         1   69.99   \n",
       "3  13918576  32765999.0 2020-10-31 03:00:00         1   43.99   \n",
       "4  10323124  46471016.0 2020-10-31 03:00:00         1   58.32   \n",
       "\n",
       "  currentbugroupname    categoryname gender  tenure  order_hour  order_date  \\\n",
       "0    Branded Tekstil      Sweatshirt  Bayan      30           3  2020-10-31   \n",
       "1      Private Label           Kazak  Bayan      37           3  2020-10-31   \n",
       "2      Private Label           Kazak  Bayan      37           3  2020-10-31   \n",
       "3                 Ev  Tava&Tava Seti  Bayan      39           3  2020-10-31   \n",
       "4      Private Label          Gömlek  Bayan      79           3  2020-10-31   \n",
       "\n",
       "   which_day  \n",
       "0          5  \n",
       "1          5  \n",
       "2          5  \n",
       "3          5  \n",
       "4          5  "
      ]
     },
     "execution_count": 15,
     "metadata": {},
     "output_type": "execute_result"
    }
   ],
   "source": [
    "order_history = df_trx.copy()\n",
    "order_history = order_history.merge(product_list, on='contentid', how='left') #adding product information\n",
    "order_history = order_history.merge(demo_list, on='userid', how='left') #adding product information\n",
    "order_history['orderdate'] = pd.to_datetime(order_history['orderdate'])\n",
    "order_history['order_hour'] = order_history.orderdate.dt.hour\n",
    "order_history['order_date'] = order_history.orderdate.dt.date\n",
    "order_history['which_day'] = order_history.orderdate.dt.weekday #the day of the week with Monday=0, Sunday=6.\n",
    "order_history.head()"
   ]
  },
  {
   "cell_type": "markdown",
   "metadata": {},
   "source": [
    "NaN rows were deleted however there still might be some rows having NaN for some of the feature columns."
   ]
  },
  {
   "cell_type": "code",
   "execution_count": 16,
   "metadata": {},
   "outputs": [
    {
     "data": {
      "text/plain": [
       "userid  contentid  orderdate  quantity  price  currentbugroupname  categoryname  gender  tenure  order_hour  order_date  which_day\n",
       "False   False      False      False     False  False               False         False   False   False       False       False        288209\n",
       "                                               True                True          False   False   False       False       False         90729\n",
       "dtype: int64"
      ]
     },
     "execution_count": 16,
     "metadata": {},
     "output_type": "execute_result"
    }
   ],
   "source": [
    "order_history.isna().value_counts()"
   ]
  },
  {
   "cell_type": "markdown",
   "metadata": {},
   "source": [
    "There are lots of NaN in the 'currentbugroupname'. I will remove these rows."
   ]
  },
  {
   "cell_type": "code",
   "execution_count": 17,
   "metadata": {},
   "outputs": [
    {
     "data": {
      "text/plain": [
       "userid  contentid  orderdate  quantity  price  currentbugroupname  categoryname  gender  tenure  order_hour  order_date  which_day\n",
       "False   False      False      False     False  False               False         False   False   False       False       False        288209\n",
       "dtype: int64"
      ]
     },
     "execution_count": 17,
     "metadata": {},
     "output_type": "execute_result"
    }
   ],
   "source": [
    "order_history = order_history.dropna(subset=['currentbugroupname'])\n",
    "order_history.isna().value_counts()"
   ]
  },
  {
   "cell_type": "code",
   "execution_count": 18,
   "metadata": {},
   "outputs": [
    {
     "data": {
      "text/plain": [
       "DatetimeIndex(['2020-10-01', '2020-10-02', '2020-10-03', '2020-10-04',\n",
       "               '2020-10-05', '2020-10-06', '2020-10-07', '2020-10-08',\n",
       "               '2020-10-09', '2020-10-10', '2020-10-11', '2020-10-12',\n",
       "               '2020-10-13', '2020-10-14', '2020-10-15', '2020-10-16',\n",
       "               '2020-10-17', '2020-10-18', '2020-10-19', '2020-10-20',\n",
       "               '2020-10-21', '2020-10-22', '2020-10-23', '2020-10-24',\n",
       "               '2020-10-25', '2020-10-26', '2020-10-27', '2020-10-28',\n",
       "               '2020-10-29', '2020-10-30', '2020-10-31', '2020-11-01'],\n",
       "              dtype='datetime64[ns]', freq='D')"
      ]
     },
     "execution_count": 18,
     "metadata": {},
     "output_type": "execute_result"
    }
   ],
   "source": [
    "pd.date_range(order_history.order_date.min(), order_history.order_date.max())"
   ]
  },
  {
   "cell_type": "markdown",
   "metadata": {},
   "source": [
    "In the order_history, we have data from October 01 to November 01."
   ]
  },
  {
   "cell_type": "code",
   "execution_count": 19,
   "metadata": {},
   "outputs": [
    {
     "data": {
      "text/plain": [
       "<AxesSubplot:xlabel='count', ylabel='which_day'>"
      ]
     },
     "execution_count": 19,
     "metadata": {},
     "output_type": "execute_result"
    },
    {
     "data": {
      "image/png": "[encoded data removed]",
      "text/plain": [
       "<Figure size 1080x216 with 2 Axes>"
      ]
     },
     "metadata": {
      "needs_background": "light"
     },
     "output_type": "display_data"
    }
   ],
   "source": [
    "fig, axes = plt.subplots(nrows=1, ncols=2, figsize=[15, 3])\n",
    "sns.countplot(ax=axes[0], data=order_history[order_history.gender!='kvkktalepsilindi'], x='gender')\n",
    "sns.countplot(ax=axes[1],data=order_history, y='which_day')"
   ]
  },
  {
   "cell_type": "code",
   "execution_count": 20,
   "metadata": {},
   "outputs": [
    {
     "data": {
      "image/png": "[encoded data removed]",
      "text/plain": [
       "<Figure size 720x288 with 1 Axes>"
      ]
     },
     "metadata": {
      "needs_background": "light"
     },
     "output_type": "display_data"
    }
   ],
   "source": [
    "order_history_by_date = order_history.groupby(['order_date']).agg({'quantity':'count'}).reset_index()\n",
    "fig, ax = plt.subplots(figsize=(10,4))\n",
    "order_history_by_date['order_date'] = pd.to_datetime(order_history_by_date['order_date'])\n",
    "order_history_by_date['which_day'] = order_history_by_date.order_date.dt.weekday #the day of the week with Monday=0, Sunday=6.\n",
    "ax = sns.scatterplot(data=order_history_by_date, x='order_date', y='quantity', hue='which_day') #Monday=0, Sunday=6\n",
    "ax.grid(axis='both', color='gray', alpha=0.1)\n",
    "plt.xticks(rotation=90)\n",
    "locs, labels = plt.xticks() "
   ]
  },
  {
   "cell_type": "code",
   "execution_count": 21,
   "metadata": {},
   "outputs": [
    {
     "data": {
      "text/plain": [
       "<AxesSubplot:xlabel='count', ylabel='currentbugroupname'>"
      ]
     },
     "execution_count": 21,
     "metadata": {},
     "output_type": "execute_result"
    },
    {
     "data": {
      "image/png": "[encoded data removed]",
      "text/plain": [
       "<Figure size 1008x720 with 2 Axes>"
      ]
     },
     "metadata": {
      "needs_background": "light"
     },
     "output_type": "display_data"
    }
   ],
   "source": [
    "fig, axes = plt.subplots(nrows=2, ncols=1, figsize=(14,10))\n",
    "sns.countplot(ax=axes[0], data=order_history[order_history.gender!='kvkktalepsilindi'], y='currentbugroupname', hue='which_day')\n",
    "sns.countplot(ax=axes[1], data=order_history[order_history.gender!='kvkktalepsilindi'], y='currentbugroupname', hue='gender')"
   ]
  },
  {
   "cell_type": "markdown",
   "metadata": {},
   "source": [
    "### 1.4. Purchase Data for the Next 3 Days <a id='df_future'></a>\n",
    "[Back to top](#table_of_contents)"
   ]
  },
  {
   "cell_type": "markdown",
   "metadata": {},
   "source": [
    "df_target_train: Purchase data for **training** users in the next 3 days\n",
    "df_test: Purchase prediction data for **test** users in the next 3 days\n",
    "- **probability:** Users purchase probability. (between 0 and 1)\n",
    "- **target:** Final verdict for the user's purchase decision (0 or 1)"
   ]
  },
  {
   "cell_type": "markdown",
   "metadata": {},
   "source": [
    "#### Training Set"
   ]
  },
  {
   "cell_type": "code",
   "execution_count": 22,
   "metadata": {},
   "outputs": [
    {
     "name": "stdout",
     "output_type": "stream",
     "text": [
      "     userid currentbugroupname\n",
      "0  28704634                 GM\n",
      "1  13506108                 Ev\n",
      "2   5893128                NaN\n",
      "3  15209082            Mobilya\n",
      "4   1109976           Kozmetik\n"
     ]
    },
    {
     "data": {
      "text/html": [
       "<div>\n",
       "<style scoped>\n",
       "    .dataframe tbody tr th:only-of-type {\n",
       "        vertical-align: middle;\n",
       "    }\n",
       "\n",
       "    .dataframe tbody tr th {\n",
       "        vertical-align: top;\n",
       "    }\n",
       "\n",
       "    .dataframe thead th {\n",
       "        text-align: right;\n",
       "    }\n",
       "</style>\n",
       "<table border=\"1\" class=\"dataframe\">\n",
       "  <thead>\n",
       "    <tr style=\"text-align: right;\">\n",
       "      <th></th>\n",
       "      <th>userid</th>\n",
       "      <th>currentbugroupname</th>\n",
       "      <th>target</th>\n",
       "    </tr>\n",
       "  </thead>\n",
       "  <tbody>\n",
       "    <tr>\n",
       "      <th>0</th>\n",
       "      <td>28704634</td>\n",
       "      <td>GM</td>\n",
       "      <td>1</td>\n",
       "    </tr>\n",
       "    <tr>\n",
       "      <th>1</th>\n",
       "      <td>13506108</td>\n",
       "      <td>Ev</td>\n",
       "      <td>1</td>\n",
       "    </tr>\n",
       "    <tr>\n",
       "      <th>2</th>\n",
       "      <td>5893128</td>\n",
       "      <td>NaN</td>\n",
       "      <td>1</td>\n",
       "    </tr>\n",
       "    <tr>\n",
       "      <th>3</th>\n",
       "      <td>15209082</td>\n",
       "      <td>Mobilya</td>\n",
       "      <td>1</td>\n",
       "    </tr>\n",
       "    <tr>\n",
       "      <th>4</th>\n",
       "      <td>1109976</td>\n",
       "      <td>Kozmetik</td>\n",
       "      <td>1</td>\n",
       "    </tr>\n",
       "  </tbody>\n",
       "</table>\n",
       "</div>"
      ],
      "text/plain": [
       "     userid currentbugroupname  target\n",
       "0  28704634                 GM       1\n",
       "1  13506108                 Ev       1\n",
       "2   5893128                NaN       1\n",
       "3  15209082            Mobilya       1\n",
       "4   1109976           Kozmetik       1"
      ]
     },
     "execution_count": 22,
     "metadata": {},
     "output_type": "execute_result"
    }
   ],
   "source": [
    "df_target_train = pd.read_csv('df_target_train.csv')\n",
    "print(df_target_train.head(5))\n",
    "\n",
    "# verdict 1\n",
    "df_target_train['target'] = 1\n",
    "df_target_train.head()"
   ]
  },
  {
   "cell_type": "code",
   "execution_count": 23,
   "metadata": {},
   "outputs": [
    {
     "name": "stdout",
     "output_type": "stream",
     "text": [
      "['GM' 'Ev' nan 'Mobilya' 'Kozmetik' 'Aksesuar & Saat & Gözlük'\n",
      " 'Private Label' 'FMCG' 'Ayakkabı & Çanta' 'GAS' 'Branded Tekstil'\n",
      " 'Elektronik' 'Digital Goods']\n",
      "['Ayakkabı & Çanta' 'Branded Tekstil' 'FMCG' 'Ev' 'GAS' 'GM' 'Elektronik'\n",
      " 'Kozmetik' 'Aksesuar & Saat & Gözlük' 'Private Label' 'Mobilya' 'UNKNOWN'\n",
      " 'Digital Goods']\n"
     ]
    }
   ],
   "source": [
    "print(df_target_train.currentbugroupname.unique())\n",
    "print(product_list.currentbugroupname.unique())"
   ]
  },
  {
   "cell_type": "markdown",
   "metadata": {},
   "source": [
    "#### Test Set"
   ]
  },
  {
   "cell_type": "code",
   "execution_count": 24,
   "metadata": {},
   "outputs": [
    {
     "data": {
      "text/html": [
       "<div>\n",
       "<style scoped>\n",
       "    .dataframe tbody tr th:only-of-type {\n",
       "        vertical-align: middle;\n",
       "    }\n",
       "\n",
       "    .dataframe tbody tr th {\n",
       "        vertical-align: top;\n",
       "    }\n",
       "\n",
       "    .dataframe thead th {\n",
       "        text-align: right;\n",
       "    }\n",
       "</style>\n",
       "<table border=\"1\" class=\"dataframe\">\n",
       "  <thead>\n",
       "    <tr style=\"text-align: right;\">\n",
       "      <th></th>\n",
       "      <th>userid</th>\n",
       "      <th>currentbugroupname</th>\n",
       "    </tr>\n",
       "  </thead>\n",
       "  <tbody>\n",
       "    <tr>\n",
       "      <th>0</th>\n",
       "      <td>20152944</td>\n",
       "      <td>Private Label</td>\n",
       "    </tr>\n",
       "    <tr>\n",
       "      <th>1</th>\n",
       "      <td>6662068</td>\n",
       "      <td>Private Label</td>\n",
       "    </tr>\n",
       "    <tr>\n",
       "      <th>2</th>\n",
       "      <td>11941706</td>\n",
       "      <td>Private Label</td>\n",
       "    </tr>\n",
       "    <tr>\n",
       "      <th>3</th>\n",
       "      <td>12406170</td>\n",
       "      <td>Private Label</td>\n",
       "    </tr>\n",
       "    <tr>\n",
       "      <th>4</th>\n",
       "      <td>20939786</td>\n",
       "      <td>Private Label</td>\n",
       "    </tr>\n",
       "  </tbody>\n",
       "</table>\n",
       "</div>"
      ],
      "text/plain": [
       "     userid currentbugroupname\n",
       "0  20152944      Private Label\n",
       "1   6662068      Private Label\n",
       "2  11941706      Private Label\n",
       "3  12406170      Private Label\n",
       "4  20939786      Private Label"
      ]
     },
     "execution_count": 24,
     "metadata": {},
     "output_type": "execute_result"
    }
   ],
   "source": [
    "df_test = pd.read_csv('df_test.csv')\n",
    "df_test = df_test.drop(['probability'], axis=1)\n",
    "df_test = df_test.drop(['target'], axis=1)\n",
    "df_test.head(5)"
   ]
  },
  {
   "cell_type": "code",
   "execution_count": 25,
   "metadata": {},
   "outputs": [
    {
     "name": "stdout",
     "output_type": "stream",
     "text": [
      "['Private Label' 'Kozmetik' 'Ev' 'Branded Tekstil' 'Ayakkabı & Çanta'\n",
      " 'Elektronik' 'GM' 'FMCG' 'Mobilya' 'GAS' 'Aksesuar & Saat & Gözlük'\n",
      " 'Digital Goods']\n"
     ]
    },
    {
     "data": {
      "text/html": [
       "<div>\n",
       "<style scoped>\n",
       "    .dataframe tbody tr th:only-of-type {\n",
       "        vertical-align: middle;\n",
       "    }\n",
       "\n",
       "    .dataframe tbody tr th {\n",
       "        vertical-align: top;\n",
       "    }\n",
       "\n",
       "    .dataframe thead th {\n",
       "        text-align: right;\n",
       "    }\n",
       "</style>\n",
       "<table border=\"1\" class=\"dataframe\">\n",
       "  <thead>\n",
       "    <tr style=\"text-align: right;\">\n",
       "      <th></th>\n",
       "      <th>userid</th>\n",
       "      <th>currentbugroupname</th>\n",
       "    </tr>\n",
       "  </thead>\n",
       "  <tbody>\n",
       "    <tr>\n",
       "      <th>0</th>\n",
       "      <td>20152944</td>\n",
       "      <td>Private Label</td>\n",
       "    </tr>\n",
       "    <tr>\n",
       "      <th>1</th>\n",
       "      <td>6662068</td>\n",
       "      <td>Private Label</td>\n",
       "    </tr>\n",
       "    <tr>\n",
       "      <th>2</th>\n",
       "      <td>11941706</td>\n",
       "      <td>Private Label</td>\n",
       "    </tr>\n",
       "    <tr>\n",
       "      <th>3</th>\n",
       "      <td>12406170</td>\n",
       "      <td>Private Label</td>\n",
       "    </tr>\n",
       "    <tr>\n",
       "      <th>4</th>\n",
       "      <td>20939786</td>\n",
       "      <td>Private Label</td>\n",
       "    </tr>\n",
       "  </tbody>\n",
       "</table>\n",
       "</div>"
      ],
      "text/plain": [
       "     userid currentbugroupname\n",
       "0  20152944      Private Label\n",
       "1   6662068      Private Label\n",
       "2  11941706      Private Label\n",
       "3  12406170      Private Label\n",
       "4  20939786      Private Label"
      ]
     },
     "execution_count": 25,
     "metadata": {},
     "output_type": "execute_result"
    }
   ],
   "source": [
    "print(df_test.currentbugroupname.unique())\n",
    "df_test.head()"
   ]
  },
  {
   "cell_type": "markdown",
   "metadata": {},
   "source": [
    "### 1.5. Dataframes on User Actions <a id='df_actions'></a>\n",
    "(actions: adding to favorite, visiting the item page, searching the item, adding to basket)\n",
    "\n",
    "[Back to top](#table_of_contents)"
   ]
  },
  {
   "cell_type": "markdown",
   "metadata": {},
   "source": [
    "- **partition_date:** Date and hour of the \"action\" event.\n",
    "- **productdetailcount:** How many times this event occured during this partition_date.\n",
    "- **addtobasket_count:** How many times this event occured during this partition_date.\n",
    "- **fav_count:** How many times this event occured during this partition_date.\n",
    "- **search_term:** The term searched by the user."
   ]
  },
  {
   "cell_type": "markdown",
   "metadata": {},
   "source": [
    "Partitioning partition_date into data and hour columns:"
   ]
  },
  {
   "cell_type": "code",
   "execution_count": 26,
   "metadata": {},
   "outputs": [
    {
     "name": "stdout",
     "output_type": "stream",
     "text": [
      "Date range of search: 2020-10-01 to 2020-10-31\n",
      "Date range of basket: 2020-10-01 to 2020-10-31\n",
      "Date range of visit: 2020-10-01 to 2020-10-31\n",
      "Date range of fav: 2020-10-01 to 2020-10-31\n"
     ]
    }
   ],
   "source": [
    "#------------- READING USER ACTION FILES -------------#\n",
    "df_basket = pd.read_csv('df_basket.csv')\n",
    "df_search_term = pd.read_csv('df_search_term.csv')\n",
    "df_fav = pd.read_csv('df_fav.csv')\n",
    "df_visit = pd.read_csv('df_visit.csv')\n",
    "#-----------------------------------------------------#\n",
    "\n",
    "def date_hour(df, col_name):\n",
    "    df['partition_date'] = pd.to_datetime(df['partition_date'])\n",
    "    print('Date range of ' + col_name + ': ' + str(df.partition_date.dt.date.min()) + ' to ' +str(df.partition_date.dt.date.max()))\n",
    "    df[col_name + '_hour'] = df.partition_date.dt.hour\n",
    "    df[col_name + '_date'] = df.partition_date.dt.date\n",
    "    df[col_name + '_date'] = pd.to_datetime(df[col_name + '_date'])\n",
    "    df.drop(['partition_date'], axis=1, inplace=True)\n",
    "    #return df\n",
    "\n",
    "\n",
    "# CREATING DATE&HOUR COLUMNS FOR EACH FILE\n",
    "date_hour(df_search_term, 'search')\n",
    "date_hour(df_basket, 'basket')\n",
    "date_hour(df_visit, 'visit')\n",
    "date_hour(df_fav, 'fav')\n"
   ]
  },
  {
   "cell_type": "markdown",
   "metadata": {},
   "source": [
    "## 2. Data Preparation <a id='preparation'></a>\n",
    "[Back to top](#table_of_contents)"
   ]
  },
  {
   "cell_type": "markdown",
   "metadata": {},
   "source": [
    "### 2.1. Grouping and Aggregating User Actions <a id='grouping_actions'></a>\n",
    "[Back to top](#table_of_contents)"
   ]
  },
  {
   "cell_type": "markdown",
   "metadata": {},
   "source": [
    "I grouped all of the user actions by dates because I wanted to get one single row every unique userid, bugroupname, and date. Then I aggregated them by adding the related quantitative data up such as count of adding to favorite or count of adding to basket."
   ]
  },
  {
   "cell_type": "code",
   "execution_count": 27,
   "metadata": {},
   "outputs": [
    {
     "data": {
      "text/html": [
       "<div>\n",
       "<style scoped>\n",
       "    .dataframe tbody tr th:only-of-type {\n",
       "        vertical-align: middle;\n",
       "    }\n",
       "\n",
       "    .dataframe tbody tr th {\n",
       "        vertical-align: top;\n",
       "    }\n",
       "\n",
       "    .dataframe thead th {\n",
       "        text-align: right;\n",
       "    }\n",
       "</style>\n",
       "<table border=\"1\" class=\"dataframe\">\n",
       "  <thead>\n",
       "    <tr style=\"text-align: right;\">\n",
       "      <th></th>\n",
       "      <th>userid</th>\n",
       "      <th>fav_date</th>\n",
       "      <th>currentbugroupname</th>\n",
       "      <th>fav_count</th>\n",
       "    </tr>\n",
       "  </thead>\n",
       "  <tbody>\n",
       "    <tr>\n",
       "      <th>0</th>\n",
       "      <td>12810</td>\n",
       "      <td>2020-10-03</td>\n",
       "      <td>Branded Tekstil</td>\n",
       "      <td>2</td>\n",
       "    </tr>\n",
       "    <tr>\n",
       "      <th>1</th>\n",
       "      <td>12810</td>\n",
       "      <td>2020-10-03</td>\n",
       "      <td>Private Label</td>\n",
       "      <td>2</td>\n",
       "    </tr>\n",
       "    <tr>\n",
       "      <th>2</th>\n",
       "      <td>12810</td>\n",
       "      <td>2020-10-04</td>\n",
       "      <td>Ayakkabı &amp; Çanta</td>\n",
       "      <td>3</td>\n",
       "    </tr>\n",
       "    <tr>\n",
       "      <th>3</th>\n",
       "      <td>12810</td>\n",
       "      <td>2020-10-05</td>\n",
       "      <td>GM</td>\n",
       "      <td>4</td>\n",
       "    </tr>\n",
       "    <tr>\n",
       "      <th>4</th>\n",
       "      <td>12810</td>\n",
       "      <td>2020-10-05</td>\n",
       "      <td>Private Label</td>\n",
       "      <td>1</td>\n",
       "    </tr>\n",
       "  </tbody>\n",
       "</table>\n",
       "</div>"
      ],
      "text/plain": [
       "   userid   fav_date currentbugroupname  fav_count\n",
       "0   12810 2020-10-03    Branded Tekstil          2\n",
       "1   12810 2020-10-03      Private Label          2\n",
       "2   12810 2020-10-04   Ayakkabı & Çanta          3\n",
       "3   12810 2020-10-05                 GM          4\n",
       "4   12810 2020-10-05      Private Label          1"
      ]
     },
     "execution_count": 27,
     "metadata": {},
     "output_type": "execute_result"
    }
   ],
   "source": [
    "## Grouping fav\n",
    "df_fav_gr = df_fav.merge(product_list, how='left', on='contentid')\n",
    "df_fav_gr = df_fav_gr.groupby(['userid', 'fav_date','currentbugroupname']).agg({'fav_count': 'sum'}).reset_index()\n",
    "df_fav_gr.head()\n"
   ]
  },
  {
   "cell_type": "code",
   "execution_count": 28,
   "metadata": {},
   "outputs": [
    {
     "data": {
      "text/html": [
       "<div>\n",
       "<style scoped>\n",
       "    .dataframe tbody tr th:only-of-type {\n",
       "        vertical-align: middle;\n",
       "    }\n",
       "\n",
       "    .dataframe tbody tr th {\n",
       "        vertical-align: top;\n",
       "    }\n",
       "\n",
       "    .dataframe thead th {\n",
       "        text-align: right;\n",
       "    }\n",
       "</style>\n",
       "<table border=\"1\" class=\"dataframe\">\n",
       "  <thead>\n",
       "    <tr style=\"text-align: right;\">\n",
       "      <th></th>\n",
       "      <th>userid</th>\n",
       "      <th>basket_date</th>\n",
       "      <th>currentbugroupname</th>\n",
       "      <th>addtobasket_count</th>\n",
       "    </tr>\n",
       "  </thead>\n",
       "  <tbody>\n",
       "    <tr>\n",
       "      <th>0</th>\n",
       "      <td>0</td>\n",
       "      <td>2020-10-01</td>\n",
       "      <td>Ev</td>\n",
       "      <td>1</td>\n",
       "    </tr>\n",
       "    <tr>\n",
       "      <th>1</th>\n",
       "      <td>0</td>\n",
       "      <td>2020-10-01</td>\n",
       "      <td>GM</td>\n",
       "      <td>1</td>\n",
       "    </tr>\n",
       "    <tr>\n",
       "      <th>2</th>\n",
       "      <td>0</td>\n",
       "      <td>2020-10-08</td>\n",
       "      <td>Elektronik</td>\n",
       "      <td>1</td>\n",
       "    </tr>\n",
       "    <tr>\n",
       "      <th>3</th>\n",
       "      <td>0</td>\n",
       "      <td>2020-10-09</td>\n",
       "      <td>Ev</td>\n",
       "      <td>3</td>\n",
       "    </tr>\n",
       "    <tr>\n",
       "      <th>4</th>\n",
       "      <td>0</td>\n",
       "      <td>2020-10-09</td>\n",
       "      <td>GM</td>\n",
       "      <td>1</td>\n",
       "    </tr>\n",
       "  </tbody>\n",
       "</table>\n",
       "</div>"
      ],
      "text/plain": [
       "   userid basket_date currentbugroupname  addtobasket_count\n",
       "0       0  2020-10-01                 Ev                  1\n",
       "1       0  2020-10-01                 GM                  1\n",
       "2       0  2020-10-08         Elektronik                  1\n",
       "3       0  2020-10-09                 Ev                  3\n",
       "4       0  2020-10-09                 GM                  1"
      ]
     },
     "execution_count": 28,
     "metadata": {},
     "output_type": "execute_result"
    }
   ],
   "source": [
    "## Grouping basket term\n",
    "df_basket_gr = df_basket.merge(product_list, how='left', on='contentid')\n",
    "df_basket_gr.head()\n",
    "df_basket_gr = df_basket_gr.groupby(['userid', 'basket_date','currentbugroupname']).agg({'addtobasket_count': 'sum'}).reset_index()\n",
    "df_basket_gr.head(5)"
   ]
  },
  {
   "cell_type": "code",
   "execution_count": 29,
   "metadata": {},
   "outputs": [
    {
     "data": {
      "text/html": [
       "<div>\n",
       "<style scoped>\n",
       "    .dataframe tbody tr th:only-of-type {\n",
       "        vertical-align: middle;\n",
       "    }\n",
       "\n",
       "    .dataframe tbody tr th {\n",
       "        vertical-align: top;\n",
       "    }\n",
       "\n",
       "    .dataframe thead th {\n",
       "        text-align: right;\n",
       "    }\n",
       "</style>\n",
       "<table border=\"1\" class=\"dataframe\">\n",
       "  <thead>\n",
       "    <tr style=\"text-align: right;\">\n",
       "      <th></th>\n",
       "      <th>userid</th>\n",
       "      <th>visit_date</th>\n",
       "      <th>currentbugroupname</th>\n",
       "      <th>productdetailcount</th>\n",
       "    </tr>\n",
       "  </thead>\n",
       "  <tbody>\n",
       "    <tr>\n",
       "      <th>0</th>\n",
       "      <td>12810</td>\n",
       "      <td>2020-10-03</td>\n",
       "      <td>Ayakkabı &amp; Çanta</td>\n",
       "      <td>2</td>\n",
       "    </tr>\n",
       "    <tr>\n",
       "      <th>1</th>\n",
       "      <td>12810</td>\n",
       "      <td>2020-10-03</td>\n",
       "      <td>Branded Tekstil</td>\n",
       "      <td>8</td>\n",
       "    </tr>\n",
       "    <tr>\n",
       "      <th>2</th>\n",
       "      <td>12810</td>\n",
       "      <td>2020-10-03</td>\n",
       "      <td>Private Label</td>\n",
       "      <td>16</td>\n",
       "    </tr>\n",
       "    <tr>\n",
       "      <th>3</th>\n",
       "      <td>12810</td>\n",
       "      <td>2020-10-04</td>\n",
       "      <td>Ayakkabı &amp; Çanta</td>\n",
       "      <td>3</td>\n",
       "    </tr>\n",
       "    <tr>\n",
       "      <th>4</th>\n",
       "      <td>12810</td>\n",
       "      <td>2020-10-04</td>\n",
       "      <td>Ev</td>\n",
       "      <td>1</td>\n",
       "    </tr>\n",
       "  </tbody>\n",
       "</table>\n",
       "</div>"
      ],
      "text/plain": [
       "   userid visit_date currentbugroupname  productdetailcount\n",
       "0   12810 2020-10-03   Ayakkabı & Çanta                   2\n",
       "1   12810 2020-10-03    Branded Tekstil                   8\n",
       "2   12810 2020-10-03      Private Label                  16\n",
       "3   12810 2020-10-04   Ayakkabı & Çanta                   3\n",
       "4   12810 2020-10-04                 Ev                   1"
      ]
     },
     "execution_count": 29,
     "metadata": {},
     "output_type": "execute_result"
    }
   ],
   "source": [
    "## Grouping visits\n",
    "df_visit_gr = df_visit.merge(product_list, how='left', on='contentid')\n",
    "df_visit_gr.head()\n",
    "df_visit_gr = df_visit_gr.groupby(['userid', 'visit_date','currentbugroupname']).agg({'productdetailcount': 'sum'}).reset_index()\n",
    "df_visit_gr.head()"
   ]
  },
  {
   "cell_type": "code",
   "execution_count": 30,
   "metadata": {},
   "outputs": [
    {
     "data": {
      "text/html": [
       "<div>\n",
       "<style scoped>\n",
       "    .dataframe tbody tr th:only-of-type {\n",
       "        vertical-align: middle;\n",
       "    }\n",
       "\n",
       "    .dataframe tbody tr th {\n",
       "        vertical-align: top;\n",
       "    }\n",
       "\n",
       "    .dataframe thead th {\n",
       "        text-align: right;\n",
       "    }\n",
       "</style>\n",
       "<table border=\"1\" class=\"dataframe\">\n",
       "  <thead>\n",
       "    <tr style=\"text-align: right;\">\n",
       "      <th></th>\n",
       "      <th>userid</th>\n",
       "      <th>basket_date</th>\n",
       "      <th>currentbugroupname</th>\n",
       "      <th>addtobasket_count</th>\n",
       "    </tr>\n",
       "  </thead>\n",
       "  <tbody>\n",
       "    <tr>\n",
       "      <th>0</th>\n",
       "      <td>0</td>\n",
       "      <td>2020-10-01</td>\n",
       "      <td>Ev</td>\n",
       "      <td>1</td>\n",
       "    </tr>\n",
       "    <tr>\n",
       "      <th>1</th>\n",
       "      <td>0</td>\n",
       "      <td>2020-10-01</td>\n",
       "      <td>GM</td>\n",
       "      <td>1</td>\n",
       "    </tr>\n",
       "    <tr>\n",
       "      <th>2</th>\n",
       "      <td>0</td>\n",
       "      <td>2020-10-08</td>\n",
       "      <td>Elektronik</td>\n",
       "      <td>1</td>\n",
       "    </tr>\n",
       "    <tr>\n",
       "      <th>3</th>\n",
       "      <td>0</td>\n",
       "      <td>2020-10-09</td>\n",
       "      <td>Ev</td>\n",
       "      <td>3</td>\n",
       "    </tr>\n",
       "    <tr>\n",
       "      <th>4</th>\n",
       "      <td>0</td>\n",
       "      <td>2020-10-09</td>\n",
       "      <td>GM</td>\n",
       "      <td>1</td>\n",
       "    </tr>\n",
       "  </tbody>\n",
       "</table>\n",
       "</div>"
      ],
      "text/plain": [
       "   userid basket_date currentbugroupname  addtobasket_count\n",
       "0       0  2020-10-01                 Ev                  1\n",
       "1       0  2020-10-01                 GM                  1\n",
       "2       0  2020-10-08         Elektronik                  1\n",
       "3       0  2020-10-09                 Ev                  3\n",
       "4       0  2020-10-09                 GM                  1"
      ]
     },
     "execution_count": 30,
     "metadata": {},
     "output_type": "execute_result"
    }
   ],
   "source": [
    "df_order_gr = order_history[['userid', 'order_date', 'currentbugroupname', 'quantity']].groupby(['userid', 'order_date','currentbugroupname']).agg({'quantity': 'sum'}).reset_index()\n",
    "df_basket_gr.head(5)"
   ]
  },
  {
   "cell_type": "markdown",
   "metadata": {},
   "source": [
    "SEARCH TERM DATA WERE NEGLECTED FOR THE MOMENT. \n",
    "\n",
    "UNKNOWN group names were removed from all of the grouped and aggregated user action data frames."
   ]
  },
  {
   "cell_type": "code",
   "execution_count": 31,
   "metadata": {},
   "outputs": [
    {
     "data": {
      "text/plain": [
       "Branded Tekstil             420275\n",
       "Ev                          242807\n",
       "GM                          200989\n",
       "Ayakkabı & Çanta            120934\n",
       "Aksesuar & Saat & Gözlük    113688\n",
       "FMCG                        104966\n",
       "Elektronik                   68341\n",
       "GAS                          60113\n",
       "Kozmetik                     52424\n",
       "Mobilya                      39611\n",
       "Private Label                16635\n",
       "Digital Goods                  173\n",
       "Name: currentbugroupname, dtype: int64"
      ]
     },
     "execution_count": 31,
     "metadata": {},
     "output_type": "execute_result"
    }
   ],
   "source": [
    "df_target_train = df_target_train.dropna(subset=['currentbugroupname'])\n",
    "\n",
    "df_fav_gr.currentbugroupname.value_counts()\n",
    "df_fav_gr = df_fav_gr[df_fav_gr.currentbugroupname!='UNKNOWN']\n",
    "df_visit_gr = df_visit_gr[df_visit_gr.currentbugroupname!='UNKNOWN']\n",
    "df_basket_gr = df_basket_gr[df_basket_gr.currentbugroupname!='UNKNOWN']\n",
    "\n",
    "product_list = product_list[product_list.currentbugroupname!='UNKNOWN']\n",
    "product_list.currentbugroupname.value_counts()"
   ]
  },
  {
   "cell_type": "markdown",
   "metadata": {},
   "source": [
    "### 2.2. Product Matrix <a id='matrix'></a>\n",
    "[Back to top](#table_of_contents)"
   ]
  },
  {
   "cell_type": "code",
   "execution_count": 32,
   "metadata": {},
   "outputs": [
    {
     "data": {
      "text/plain": [
       "40807"
      ]
     },
     "execution_count": 32,
     "metadata": {},
     "output_type": "execute_result"
    }
   ],
   "source": [
    "# all unique user_ids\n",
    "userid_list = np.unique(np.concatenate([df_target_train.userid.unique(),  df_test.userid.unique(), demo_list.userid.unique()]))\n",
    "len(userid_list)"
   ]
  },
  {
   "cell_type": "code",
   "execution_count": 33,
   "metadata": {},
   "outputs": [
    {
     "name": "stdout",
     "output_type": "stream",
     "text": [
      "Size of the feature matrix must be  1305824 .\n"
     ]
    }
   ],
   "source": [
    "#product matrix for every unique user id and currentbugroupnames\n",
    "from itertools import product\n",
    "\n",
    "product_matrix = []\n",
    "total_len = 0\n",
    "\n",
    "idx = pd.date_range(order_history.order_date.min(), order_history.order_date.max())\n",
    "for dt in idx:\n",
    "    #add_date = df_fav.fav_date.min() + timedelta(days=n)\n",
    "    product_matrix.append(np.array(list(product(userid_list, product_list.currentbugroupname.unique(), [dt]))))\n",
    "    total_len = total_len + (len(userid_list))\n",
    "    \n",
    "print(\"Size of the feature matrix must be \", total_len, '.')"
   ]
  },
  {
   "cell_type": "code",
   "execution_count": 34,
   "metadata": {},
   "outputs": [],
   "source": [
    "# Turn the grid into a dataframe\n",
    "product_matrix = pd.DataFrame(np.vstack(product_matrix), columns=['userid', 'currentbugroupname', 'date'])"
   ]
  },
  {
   "cell_type": "code",
   "execution_count": 35,
   "metadata": {},
   "outputs": [],
   "source": [
    "#pd.DataFrame(product_matrix).to_csv(\"product_matrix.csv\")\n",
    "#Uncomment the scripts below if you don't want to rerun the cells above.\n",
    "#product_matrix = pd.read_csv(\"product_matrix.csv\")\n",
    "#product_matrix['date'] = pd.to_datetime(product_matrix['date'])\n"
   ]
  },
  {
   "cell_type": "markdown",
   "metadata": {},
   "source": [
    "Adding new columns to the product matrix."
   ]
  },
  {
   "cell_type": "code",
   "execution_count": 36,
   "metadata": {},
   "outputs": [],
   "source": [
    "# add features about user actions\n",
    "product_matrix_merged= product_matrix.merge(df_fav_gr, how='left', right_on=['userid', 'currentbugroupname', 'fav_date'], left_on=['userid', 'currentbugroupname', 'date']).fillna(0)\n",
    "product_matrix_merged= product_matrix_merged.merge(df_visit_gr, how='left', right_on=['userid', 'currentbugroupname', 'visit_date'], left_on=['userid', 'currentbugroupname', 'date']).fillna(0)\n",
    "product_matrix_merged= product_matrix_merged.merge(df_basket_gr, how='left', right_on=['userid', 'currentbugroupname', 'basket_date'], left_on=['userid', 'currentbugroupname', 'date']).fillna(0)\n",
    "\n",
    "# add features from df_order_gr\n",
    "df_order_gr['order_date'] = pd.to_datetime(df_order_gr['order_date'])\n",
    "product_matrix_merged= product_matrix_merged.merge(df_order_gr, how='left', right_on=['userid', 'currentbugroupname', 'order_date'], left_on=['userid', 'currentbugroupname', 'date']).fillna(0)"
   ]
  },
  {
   "cell_type": "markdown",
   "metadata": {},
   "source": [
    "We no longer need the date columns from the user action data frames."
   ]
  },
  {
   "cell_type": "code",
   "execution_count": 37,
   "metadata": {},
   "outputs": [],
   "source": [
    "product_matrix_merged = product_matrix_merged.drop(['fav_date', 'visit_date', 'basket_date', 'order_date'], axis=1)\n",
    "pd.DataFrame(product_matrix_merged).to_csv(\"product_matrix_merged.csv\")\n",
    "#product_matrix_merged = pd.read_csv(\"ozge.csv\")\n",
    "#product_matrix_merged['date'] = pd.to_datetime(product_matrix_merged['date'])\n"
   ]
  },
  {
   "cell_type": "markdown",
   "metadata": {},
   "source": [
    "### 2.3. Creating Feature Columns <a id='create_feature'></a>\n",
    "[Back to top](#table_of_contents)"
   ]
  },
  {
   "cell_type": "markdown",
   "metadata": {},
   "source": [
    "Creating range of times for different durations. For example, idx_list[14] is the date_range including every single date 14 days prior to the last date for which purchase data is available."
   ]
  },
  {
   "cell_type": "code",
   "execution_count": 38,
   "metadata": {},
   "outputs": [],
   "source": [
    "idx_list = {}\n",
    "for d in [31, 14,10,5,3]:\n",
    "    idx_list[d] = pd.date_range(order_history.order_date.max() - datetime.timedelta(days = d-1), order_history.order_date.max())"
   ]
  },
  {
   "cell_type": "code",
   "execution_count": 39,
   "metadata": {},
   "outputs": [],
   "source": [
    "def lag(df, last_n_day):\n",
    "    list_t = []\n",
    "    for x in idx_list[last_n_day]:\n",
    "        list_t.append(x.date())\n",
    "        \n",
    "    #print(list_t[0])\n",
    "\n",
    "    mask = (df['date'].dt.date >= list_t[0]) & (df['date'].dt.date <= list_t[-1])\n",
    "    df = df.loc[mask]\n",
    "    df = df.groupby(['userid','currentbugroupname']).agg({'fav_count': 'sum'\n",
    "                                                        ,'productdetailcount': 'sum'\n",
    "                                                        ,'addtobasket_count': 'sum'\n",
    "                                                        ,'quantity': 'sum'}).rename(columns={'fav_count': 'last_' + str(last_n_day) + '_day_fav_count'\n",
    "                                                                                            , 'productdetailcount': 'last_' + str(last_n_day) + '_day_visit_count'\n",
    "                                                                                            , 'addtobasket_count': 'last_' + str(last_n_day) + '_day_basket_count'\n",
    "                                                                                            , 'quantity': 'last_' + str(last_n_day) + '_day_order_quantity'}).reset_index()\n",
    "    return df\n"
   ]
  },
  {
   "cell_type": "code",
   "execution_count": 40,
   "metadata": {},
   "outputs": [],
   "source": [
    "product_matrix_merged['date'] = pd.to_datetime(product_matrix_merged['date'])\n",
    "\n",
    "lagged_31 = lag(product_matrix_merged, 31)\n",
    "lagged_14 = lag(product_matrix_merged, 14)\n",
    "lagged_10 = lag(product_matrix_merged, 10)\n",
    "lagged_5 = lag(product_matrix_merged, 5)\n",
    "lagged_3 = lag(product_matrix_merged, 3)"
   ]
  },
  {
   "cell_type": "markdown",
   "metadata": {},
   "source": [
    "Merging all of the dataframe that I have just created for different time ranges:"
   ]
  },
  {
   "cell_type": "code",
   "execution_count": 41,
   "metadata": {},
   "outputs": [
    {
     "data": {
      "text/html": [
       "<div>\n",
       "<style scoped>\n",
       "    .dataframe tbody tr th:only-of-type {\n",
       "        vertical-align: middle;\n",
       "    }\n",
       "\n",
       "    .dataframe tbody tr th {\n",
       "        vertical-align: top;\n",
       "    }\n",
       "\n",
       "    .dataframe thead th {\n",
       "        text-align: right;\n",
       "    }\n",
       "</style>\n",
       "<table border=\"1\" class=\"dataframe\">\n",
       "  <thead>\n",
       "    <tr style=\"text-align: right;\">\n",
       "      <th></th>\n",
       "      <th>userid</th>\n",
       "      <th>currentbugroupname</th>\n",
       "      <th>last_31_day_fav_count</th>\n",
       "      <th>last_31_day_visit_count</th>\n",
       "      <th>last_31_day_basket_count</th>\n",
       "      <th>last_31_day_order_quantity</th>\n",
       "      <th>last_14_day_fav_count</th>\n",
       "      <th>last_14_day_visit_count</th>\n",
       "      <th>last_14_day_basket_count</th>\n",
       "      <th>last_14_day_order_quantity</th>\n",
       "      <th>...</th>\n",
       "      <th>last_10_day_basket_count</th>\n",
       "      <th>last_10_day_order_quantity</th>\n",
       "      <th>last_5_day_fav_count</th>\n",
       "      <th>last_5_day_visit_count</th>\n",
       "      <th>last_5_day_basket_count</th>\n",
       "      <th>last_5_day_order_quantity</th>\n",
       "      <th>last_3_day_fav_count</th>\n",
       "      <th>last_3_day_visit_count</th>\n",
       "      <th>last_3_day_basket_count</th>\n",
       "      <th>last_3_day_order_quantity</th>\n",
       "    </tr>\n",
       "  </thead>\n",
       "  <tbody>\n",
       "    <tr>\n",
       "      <th>0</th>\n",
       "      <td>2086</td>\n",
       "      <td>Aksesuar &amp; Saat &amp; Gözlük</td>\n",
       "      <td>0.0</td>\n",
       "      <td>0.0</td>\n",
       "      <td>0.0</td>\n",
       "      <td>0.0</td>\n",
       "      <td>0.0</td>\n",
       "      <td>0.0</td>\n",
       "      <td>0.0</td>\n",
       "      <td>0.0</td>\n",
       "      <td>...</td>\n",
       "      <td>0.0</td>\n",
       "      <td>0.0</td>\n",
       "      <td>0.0</td>\n",
       "      <td>0.0</td>\n",
       "      <td>0.0</td>\n",
       "      <td>0.0</td>\n",
       "      <td>0.0</td>\n",
       "      <td>0.0</td>\n",
       "      <td>0.0</td>\n",
       "      <td>0.0</td>\n",
       "    </tr>\n",
       "    <tr>\n",
       "      <th>1</th>\n",
       "      <td>2086</td>\n",
       "      <td>Ayakkabı &amp; Çanta</td>\n",
       "      <td>0.0</td>\n",
       "      <td>0.0</td>\n",
       "      <td>0.0</td>\n",
       "      <td>0.0</td>\n",
       "      <td>0.0</td>\n",
       "      <td>0.0</td>\n",
       "      <td>0.0</td>\n",
       "      <td>0.0</td>\n",
       "      <td>...</td>\n",
       "      <td>0.0</td>\n",
       "      <td>0.0</td>\n",
       "      <td>0.0</td>\n",
       "      <td>0.0</td>\n",
       "      <td>0.0</td>\n",
       "      <td>0.0</td>\n",
       "      <td>0.0</td>\n",
       "      <td>0.0</td>\n",
       "      <td>0.0</td>\n",
       "      <td>0.0</td>\n",
       "    </tr>\n",
       "    <tr>\n",
       "      <th>2</th>\n",
       "      <td>2086</td>\n",
       "      <td>Branded Tekstil</td>\n",
       "      <td>0.0</td>\n",
       "      <td>0.0</td>\n",
       "      <td>0.0</td>\n",
       "      <td>0.0</td>\n",
       "      <td>0.0</td>\n",
       "      <td>0.0</td>\n",
       "      <td>0.0</td>\n",
       "      <td>0.0</td>\n",
       "      <td>...</td>\n",
       "      <td>0.0</td>\n",
       "      <td>0.0</td>\n",
       "      <td>0.0</td>\n",
       "      <td>0.0</td>\n",
       "      <td>0.0</td>\n",
       "      <td>0.0</td>\n",
       "      <td>0.0</td>\n",
       "      <td>0.0</td>\n",
       "      <td>0.0</td>\n",
       "      <td>0.0</td>\n",
       "    </tr>\n",
       "    <tr>\n",
       "      <th>3</th>\n",
       "      <td>2086</td>\n",
       "      <td>Digital Goods</td>\n",
       "      <td>0.0</td>\n",
       "      <td>0.0</td>\n",
       "      <td>0.0</td>\n",
       "      <td>0.0</td>\n",
       "      <td>0.0</td>\n",
       "      <td>0.0</td>\n",
       "      <td>0.0</td>\n",
       "      <td>0.0</td>\n",
       "      <td>...</td>\n",
       "      <td>0.0</td>\n",
       "      <td>0.0</td>\n",
       "      <td>0.0</td>\n",
       "      <td>0.0</td>\n",
       "      <td>0.0</td>\n",
       "      <td>0.0</td>\n",
       "      <td>0.0</td>\n",
       "      <td>0.0</td>\n",
       "      <td>0.0</td>\n",
       "      <td>0.0</td>\n",
       "    </tr>\n",
       "    <tr>\n",
       "      <th>4</th>\n",
       "      <td>2086</td>\n",
       "      <td>Elektronik</td>\n",
       "      <td>0.0</td>\n",
       "      <td>0.0</td>\n",
       "      <td>0.0</td>\n",
       "      <td>0.0</td>\n",
       "      <td>0.0</td>\n",
       "      <td>0.0</td>\n",
       "      <td>0.0</td>\n",
       "      <td>0.0</td>\n",
       "      <td>...</td>\n",
       "      <td>0.0</td>\n",
       "      <td>0.0</td>\n",
       "      <td>0.0</td>\n",
       "      <td>0.0</td>\n",
       "      <td>0.0</td>\n",
       "      <td>0.0</td>\n",
       "      <td>0.0</td>\n",
       "      <td>0.0</td>\n",
       "      <td>0.0</td>\n",
       "      <td>0.0</td>\n",
       "    </tr>\n",
       "    <tr>\n",
       "      <th>...</th>\n",
       "      <td>...</td>\n",
       "      <td>...</td>\n",
       "      <td>...</td>\n",
       "      <td>...</td>\n",
       "      <td>...</td>\n",
       "      <td>...</td>\n",
       "      <td>...</td>\n",
       "      <td>...</td>\n",
       "      <td>...</td>\n",
       "      <td>...</td>\n",
       "      <td>...</td>\n",
       "      <td>...</td>\n",
       "      <td>...</td>\n",
       "      <td>...</td>\n",
       "      <td>...</td>\n",
       "      <td>...</td>\n",
       "      <td>...</td>\n",
       "      <td>...</td>\n",
       "      <td>...</td>\n",
       "      <td>...</td>\n",
       "      <td>...</td>\n",
       "    </tr>\n",
       "    <tr>\n",
       "      <th>489679</th>\n",
       "      <td>44625651</td>\n",
       "      <td>GAS</td>\n",
       "      <td>0.0</td>\n",
       "      <td>1.0</td>\n",
       "      <td>0.0</td>\n",
       "      <td>0.0</td>\n",
       "      <td>0.0</td>\n",
       "      <td>1.0</td>\n",
       "      <td>0.0</td>\n",
       "      <td>0.0</td>\n",
       "      <td>...</td>\n",
       "      <td>0.0</td>\n",
       "      <td>0.0</td>\n",
       "      <td>0.0</td>\n",
       "      <td>1.0</td>\n",
       "      <td>0.0</td>\n",
       "      <td>0.0</td>\n",
       "      <td>0.0</td>\n",
       "      <td>1.0</td>\n",
       "      <td>0.0</td>\n",
       "      <td>0.0</td>\n",
       "    </tr>\n",
       "    <tr>\n",
       "      <th>489680</th>\n",
       "      <td>44625651</td>\n",
       "      <td>GM</td>\n",
       "      <td>0.0</td>\n",
       "      <td>40.0</td>\n",
       "      <td>0.0</td>\n",
       "      <td>0.0</td>\n",
       "      <td>0.0</td>\n",
       "      <td>40.0</td>\n",
       "      <td>0.0</td>\n",
       "      <td>0.0</td>\n",
       "      <td>...</td>\n",
       "      <td>0.0</td>\n",
       "      <td>0.0</td>\n",
       "      <td>0.0</td>\n",
       "      <td>40.0</td>\n",
       "      <td>0.0</td>\n",
       "      <td>0.0</td>\n",
       "      <td>0.0</td>\n",
       "      <td>40.0</td>\n",
       "      <td>0.0</td>\n",
       "      <td>0.0</td>\n",
       "    </tr>\n",
       "    <tr>\n",
       "      <th>489681</th>\n",
       "      <td>44625651</td>\n",
       "      <td>Kozmetik</td>\n",
       "      <td>0.0</td>\n",
       "      <td>0.0</td>\n",
       "      <td>0.0</td>\n",
       "      <td>0.0</td>\n",
       "      <td>0.0</td>\n",
       "      <td>0.0</td>\n",
       "      <td>0.0</td>\n",
       "      <td>0.0</td>\n",
       "      <td>...</td>\n",
       "      <td>0.0</td>\n",
       "      <td>0.0</td>\n",
       "      <td>0.0</td>\n",
       "      <td>0.0</td>\n",
       "      <td>0.0</td>\n",
       "      <td>0.0</td>\n",
       "      <td>0.0</td>\n",
       "      <td>0.0</td>\n",
       "      <td>0.0</td>\n",
       "      <td>0.0</td>\n",
       "    </tr>\n",
       "    <tr>\n",
       "      <th>489682</th>\n",
       "      <td>44625651</td>\n",
       "      <td>Mobilya</td>\n",
       "      <td>0.0</td>\n",
       "      <td>0.0</td>\n",
       "      <td>0.0</td>\n",
       "      <td>0.0</td>\n",
       "      <td>0.0</td>\n",
       "      <td>0.0</td>\n",
       "      <td>0.0</td>\n",
       "      <td>0.0</td>\n",
       "      <td>...</td>\n",
       "      <td>0.0</td>\n",
       "      <td>0.0</td>\n",
       "      <td>0.0</td>\n",
       "      <td>0.0</td>\n",
       "      <td>0.0</td>\n",
       "      <td>0.0</td>\n",
       "      <td>0.0</td>\n",
       "      <td>0.0</td>\n",
       "      <td>0.0</td>\n",
       "      <td>0.0</td>\n",
       "    </tr>\n",
       "    <tr>\n",
       "      <th>489683</th>\n",
       "      <td>44625651</td>\n",
       "      <td>Private Label</td>\n",
       "      <td>0.0</td>\n",
       "      <td>0.0</td>\n",
       "      <td>0.0</td>\n",
       "      <td>0.0</td>\n",
       "      <td>0.0</td>\n",
       "      <td>0.0</td>\n",
       "      <td>0.0</td>\n",
       "      <td>0.0</td>\n",
       "      <td>...</td>\n",
       "      <td>0.0</td>\n",
       "      <td>0.0</td>\n",
       "      <td>0.0</td>\n",
       "      <td>0.0</td>\n",
       "      <td>0.0</td>\n",
       "      <td>0.0</td>\n",
       "      <td>0.0</td>\n",
       "      <td>0.0</td>\n",
       "      <td>0.0</td>\n",
       "      <td>0.0</td>\n",
       "    </tr>\n",
       "  </tbody>\n",
       "</table>\n",
       "<p>489684 rows × 22 columns</p>\n",
       "</div>"
      ],
      "text/plain": [
       "          userid        currentbugroupname  last_31_day_fav_count  \\\n",
       "0           2086  Aksesuar & Saat & Gözlük                    0.0   \n",
       "1           2086          Ayakkabı & Çanta                    0.0   \n",
       "2           2086           Branded Tekstil                    0.0   \n",
       "3           2086             Digital Goods                    0.0   \n",
       "4           2086                Elektronik                    0.0   \n",
       "...          ...                       ...                    ...   \n",
       "489679  44625651                       GAS                    0.0   \n",
       "489680  44625651                        GM                    0.0   \n",
       "489681  44625651                  Kozmetik                    0.0   \n",
       "489682  44625651                   Mobilya                    0.0   \n",
       "489683  44625651             Private Label                    0.0   \n",
       "\n",
       "        last_31_day_visit_count  last_31_day_basket_count  \\\n",
       "0                           0.0                       0.0   \n",
       "1                           0.0                       0.0   \n",
       "2                           0.0                       0.0   \n",
       "3                           0.0                       0.0   \n",
       "4                           0.0                       0.0   \n",
       "...                         ...                       ...   \n",
       "489679                      1.0                       0.0   \n",
       "489680                     40.0                       0.0   \n",
       "489681                      0.0                       0.0   \n",
       "489682                      0.0                       0.0   \n",
       "489683                      0.0                       0.0   \n",
       "\n",
       "        last_31_day_order_quantity  last_14_day_fav_count  \\\n",
       "0                              0.0                    0.0   \n",
       "1                              0.0                    0.0   \n",
       "2                              0.0                    0.0   \n",
       "3                              0.0                    0.0   \n",
       "4                              0.0                    0.0   \n",
       "...                            ...                    ...   \n",
       "489679                         0.0                    0.0   \n",
       "489680                         0.0                    0.0   \n",
       "489681                         0.0                    0.0   \n",
       "489682                         0.0                    0.0   \n",
       "489683                         0.0                    0.0   \n",
       "\n",
       "        last_14_day_visit_count  last_14_day_basket_count  \\\n",
       "0                           0.0                       0.0   \n",
       "1                           0.0                       0.0   \n",
       "2                           0.0                       0.0   \n",
       "3                           0.0                       0.0   \n",
       "4                           0.0                       0.0   \n",
       "...                         ...                       ...   \n",
       "489679                      1.0                       0.0   \n",
       "489680                     40.0                       0.0   \n",
       "489681                      0.0                       0.0   \n",
       "489682                      0.0                       0.0   \n",
       "489683                      0.0                       0.0   \n",
       "\n",
       "        last_14_day_order_quantity  ...  last_10_day_basket_count  \\\n",
       "0                              0.0  ...                       0.0   \n",
       "1                              0.0  ...                       0.0   \n",
       "2                              0.0  ...                       0.0   \n",
       "3                              0.0  ...                       0.0   \n",
       "4                              0.0  ...                       0.0   \n",
       "...                            ...  ...                       ...   \n",
       "489679                         0.0  ...                       0.0   \n",
       "489680                         0.0  ...                       0.0   \n",
       "489681                         0.0  ...                       0.0   \n",
       "489682                         0.0  ...                       0.0   \n",
       "489683                         0.0  ...                       0.0   \n",
       "\n",
       "        last_10_day_order_quantity  last_5_day_fav_count  \\\n",
       "0                              0.0                   0.0   \n",
       "1                              0.0                   0.0   \n",
       "2                              0.0                   0.0   \n",
       "3                              0.0                   0.0   \n",
       "4                              0.0                   0.0   \n",
       "...                            ...                   ...   \n",
       "489679                         0.0                   0.0   \n",
       "489680                         0.0                   0.0   \n",
       "489681                         0.0                   0.0   \n",
       "489682                         0.0                   0.0   \n",
       "489683                         0.0                   0.0   \n",
       "\n",
       "        last_5_day_visit_count  last_5_day_basket_count  \\\n",
       "0                          0.0                      0.0   \n",
       "1                          0.0                      0.0   \n",
       "2                          0.0                      0.0   \n",
       "3                          0.0                      0.0   \n",
       "4                          0.0                      0.0   \n",
       "...                        ...                      ...   \n",
       "489679                     1.0                      0.0   \n",
       "489680                    40.0                      0.0   \n",
       "489681                     0.0                      0.0   \n",
       "489682                     0.0                      0.0   \n",
       "489683                     0.0                      0.0   \n",
       "\n",
       "        last_5_day_order_quantity  last_3_day_fav_count  \\\n",
       "0                             0.0                   0.0   \n",
       "1                             0.0                   0.0   \n",
       "2                             0.0                   0.0   \n",
       "3                             0.0                   0.0   \n",
       "4                             0.0                   0.0   \n",
       "...                           ...                   ...   \n",
       "489679                        0.0                   0.0   \n",
       "489680                        0.0                   0.0   \n",
       "489681                        0.0                   0.0   \n",
       "489682                        0.0                   0.0   \n",
       "489683                        0.0                   0.0   \n",
       "\n",
       "        last_3_day_visit_count  last_3_day_basket_count  \\\n",
       "0                          0.0                      0.0   \n",
       "1                          0.0                      0.0   \n",
       "2                          0.0                      0.0   \n",
       "3                          0.0                      0.0   \n",
       "4                          0.0                      0.0   \n",
       "...                        ...                      ...   \n",
       "489679                     1.0                      0.0   \n",
       "489680                    40.0                      0.0   \n",
       "489681                     0.0                      0.0   \n",
       "489682                     0.0                      0.0   \n",
       "489683                     0.0                      0.0   \n",
       "\n",
       "        last_3_day_order_quantity  \n",
       "0                             0.0  \n",
       "1                             0.0  \n",
       "2                             0.0  \n",
       "3                             0.0  \n",
       "4                             0.0  \n",
       "...                           ...  \n",
       "489679                        0.0  \n",
       "489680                        0.0  \n",
       "489681                        0.0  \n",
       "489682                        0.0  \n",
       "489683                        0.0  \n",
       "\n",
       "[489684 rows x 22 columns]"
      ]
     },
     "execution_count": 41,
     "metadata": {},
     "output_type": "execute_result"
    }
   ],
   "source": [
    "lagged_all = lagged_31.merge(lagged_14, how='left', on=['userid', 'currentbugroupname'])\n",
    "lagged_all = lagged_all.merge(lagged_10, how='left', on=['userid', 'currentbugroupname'])\n",
    "lagged_all = lagged_all.merge(lagged_5, how='left', on=['userid', 'currentbugroupname'])\n",
    "lagged_all = lagged_all.merge(lagged_3, how='left', on=['userid', 'currentbugroupname'])\n",
    "lagged_all"
   ]
  },
  {
   "cell_type": "markdown",
   "metadata": {},
   "source": [
    "Below I look for the corresponding userid and group names in the dataframes which includes the purchasing data for the next 3 days. Having the corresponding duo in the df_train_target dataframe means that the user made a purchase from the group of interest during November 1-3 (probability=1, target=1). Note that the dataframe called \"modelling_data\" was created considering every single purchase of each user during Oct 1 - Oct 31. By using the historical data and the actual purchase data in the next 3 days, I will be creating a model."
   ]
  },
  {
   "cell_type": "code",
   "execution_count": 42,
   "metadata": {},
   "outputs": [
    {
     "name": "stdout",
     "output_type": "stream",
     "text": [
      "(24734, 23)\n",
      "(489684, 23)\n"
     ]
    }
   ],
   "source": [
    "modelling_data = lagged_all.merge(df_target_train, how='left', on=['userid', 'currentbugroupname']).fillna(0)\n",
    "print(modelling_data[modelling_data.target==1].shape)\n",
    "print(modelling_data.shape)\n",
    "modelling_data['target'] = modelling_data['target'].astype(int)"
   ]
  },
  {
   "cell_type": "markdown",
   "metadata": {},
   "source": [
    "### 2.4. Categorical Columns <a id='cat_feature'></a>\n",
    "[Back to top](#table_of_contents)"
   ]
  },
  {
   "cell_type": "code",
   "execution_count": 43,
   "metadata": {},
   "outputs": [],
   "source": [
    "from sklearn.preprocessing import LabelEncoder\n",
    "modelling_data['userid'] = modelling_data['userid'].astype(str)\n",
    "\n",
    "modelling_data['bugroup_id'] = modelling_data['currentbugroupname'].factorize()[0]\n",
    "modelling_data['bugroup_id'] = LabelEncoder().fit_transform(modelling_data['bugroup_id'])"
   ]
  },
  {
   "cell_type": "markdown",
   "metadata": {},
   "source": [
    "### 2.5. Normalizing <a id='normalize'></a>\n",
    "[Back to top](#table_of_contents)"
   ]
  },
  {
   "cell_type": "code",
   "execution_count": 44,
   "metadata": {},
   "outputs": [],
   "source": [
    "from sklearn.preprocessing import StandardScaler\n",
    "\n",
    "data_n = modelling_data.copy()\n",
    "data_cols = [col for col in modelling_data if col.startswith('last')]\n",
    "for col in data_cols:\n",
    "    x_array = np.array(modelling_data[col])\n",
    "    norm_arr = preprocessing.normalize([x_array])[0]\n",
    "    modelling_data[col] = pd.Series(norm_arr)\n",
    "\n",
    "input_features = data_cols + ['bugroup_id', 'userid']\n",
    "target_features = ['target']\n",
    "input_df = data_n[input_features]\n",
    "target_df = data_n[target_features]\n",
    "target_df = target_df.astype(int)"
   ]
  },
  {
   "cell_type": "code",
   "execution_count": 45,
   "metadata": {},
   "outputs": [
    {
     "data": {
      "text/html": [
       "<div>\n",
       "<style scoped>\n",
       "    .dataframe tbody tr th:only-of-type {\n",
       "        vertical-align: middle;\n",
       "    }\n",
       "\n",
       "    .dataframe tbody tr th {\n",
       "        vertical-align: top;\n",
       "    }\n",
       "\n",
       "    .dataframe thead th {\n",
       "        text-align: right;\n",
       "    }\n",
       "</style>\n",
       "<table border=\"1\" class=\"dataframe\">\n",
       "  <thead>\n",
       "    <tr style=\"text-align: right;\">\n",
       "      <th></th>\n",
       "      <th>userid</th>\n",
       "      <th>currentbugroupname</th>\n",
       "      <th>last_31_day_fav_count</th>\n",
       "      <th>last_31_day_visit_count</th>\n",
       "      <th>last_31_day_basket_count</th>\n",
       "      <th>last_31_day_order_quantity</th>\n",
       "      <th>last_14_day_fav_count</th>\n",
       "      <th>last_14_day_visit_count</th>\n",
       "      <th>last_14_day_basket_count</th>\n",
       "      <th>last_14_day_order_quantity</th>\n",
       "      <th>...</th>\n",
       "      <th>last_5_day_fav_count</th>\n",
       "      <th>last_5_day_visit_count</th>\n",
       "      <th>last_5_day_basket_count</th>\n",
       "      <th>last_5_day_order_quantity</th>\n",
       "      <th>last_3_day_fav_count</th>\n",
       "      <th>last_3_day_visit_count</th>\n",
       "      <th>last_3_day_basket_count</th>\n",
       "      <th>last_3_day_order_quantity</th>\n",
       "      <th>target</th>\n",
       "      <th>bugroup_id</th>\n",
       "    </tr>\n",
       "  </thead>\n",
       "  <tbody>\n",
       "    <tr>\n",
       "      <th>0</th>\n",
       "      <td>2086</td>\n",
       "      <td>Aksesuar &amp; Saat &amp; Gözlük</td>\n",
       "      <td>0.0</td>\n",
       "      <td>0.0</td>\n",
       "      <td>0.0</td>\n",
       "      <td>0.0</td>\n",
       "      <td>0.0</td>\n",
       "      <td>0.0</td>\n",
       "      <td>0.0</td>\n",
       "      <td>0.0</td>\n",
       "      <td>...</td>\n",
       "      <td>0.0</td>\n",
       "      <td>0.0</td>\n",
       "      <td>0.0</td>\n",
       "      <td>0.0</td>\n",
       "      <td>0.0</td>\n",
       "      <td>0.0</td>\n",
       "      <td>0.0</td>\n",
       "      <td>0.0</td>\n",
       "      <td>0</td>\n",
       "      <td>0</td>\n",
       "    </tr>\n",
       "    <tr>\n",
       "      <th>1</th>\n",
       "      <td>2086</td>\n",
       "      <td>Ayakkabı &amp; Çanta</td>\n",
       "      <td>0.0</td>\n",
       "      <td>0.0</td>\n",
       "      <td>0.0</td>\n",
       "      <td>0.0</td>\n",
       "      <td>0.0</td>\n",
       "      <td>0.0</td>\n",
       "      <td>0.0</td>\n",
       "      <td>0.0</td>\n",
       "      <td>...</td>\n",
       "      <td>0.0</td>\n",
       "      <td>0.0</td>\n",
       "      <td>0.0</td>\n",
       "      <td>0.0</td>\n",
       "      <td>0.0</td>\n",
       "      <td>0.0</td>\n",
       "      <td>0.0</td>\n",
       "      <td>0.0</td>\n",
       "      <td>1</td>\n",
       "      <td>1</td>\n",
       "    </tr>\n",
       "    <tr>\n",
       "      <th>2</th>\n",
       "      <td>2086</td>\n",
       "      <td>Branded Tekstil</td>\n",
       "      <td>0.0</td>\n",
       "      <td>0.0</td>\n",
       "      <td>0.0</td>\n",
       "      <td>0.0</td>\n",
       "      <td>0.0</td>\n",
       "      <td>0.0</td>\n",
       "      <td>0.0</td>\n",
       "      <td>0.0</td>\n",
       "      <td>...</td>\n",
       "      <td>0.0</td>\n",
       "      <td>0.0</td>\n",
       "      <td>0.0</td>\n",
       "      <td>0.0</td>\n",
       "      <td>0.0</td>\n",
       "      <td>0.0</td>\n",
       "      <td>0.0</td>\n",
       "      <td>0.0</td>\n",
       "      <td>0</td>\n",
       "      <td>2</td>\n",
       "    </tr>\n",
       "  </tbody>\n",
       "</table>\n",
       "<p>3 rows × 24 columns</p>\n",
       "</div>"
      ],
      "text/plain": [
       "  userid        currentbugroupname  last_31_day_fav_count  \\\n",
       "0   2086  Aksesuar & Saat & Gözlük                    0.0   \n",
       "1   2086          Ayakkabı & Çanta                    0.0   \n",
       "2   2086           Branded Tekstil                    0.0   \n",
       "\n",
       "   last_31_day_visit_count  last_31_day_basket_count  \\\n",
       "0                      0.0                       0.0   \n",
       "1                      0.0                       0.0   \n",
       "2                      0.0                       0.0   \n",
       "\n",
       "   last_31_day_order_quantity  last_14_day_fav_count  last_14_day_visit_count  \\\n",
       "0                         0.0                    0.0                      0.0   \n",
       "1                         0.0                    0.0                      0.0   \n",
       "2                         0.0                    0.0                      0.0   \n",
       "\n",
       "   last_14_day_basket_count  last_14_day_order_quantity  ...  \\\n",
       "0                       0.0                         0.0  ...   \n",
       "1                       0.0                         0.0  ...   \n",
       "2                       0.0                         0.0  ...   \n",
       "\n",
       "   last_5_day_fav_count  last_5_day_visit_count  last_5_day_basket_count  \\\n",
       "0                   0.0                     0.0                      0.0   \n",
       "1                   0.0                     0.0                      0.0   \n",
       "2                   0.0                     0.0                      0.0   \n",
       "\n",
       "   last_5_day_order_quantity  last_3_day_fav_count  last_3_day_visit_count  \\\n",
       "0                        0.0                   0.0                     0.0   \n",
       "1                        0.0                   0.0                     0.0   \n",
       "2                        0.0                   0.0                     0.0   \n",
       "\n",
       "   last_3_day_basket_count  last_3_day_order_quantity  target  bugroup_id  \n",
       "0                      0.0                        0.0       0           0  \n",
       "1                      0.0                        0.0       1           1  \n",
       "2                      0.0                        0.0       0           2  \n",
       "\n",
       "[3 rows x 24 columns]"
      ]
     },
     "execution_count": 45,
     "metadata": {},
     "output_type": "execute_result"
    }
   ],
   "source": [
    "modelling_data.head(3)"
   ]
  },
  {
   "cell_type": "markdown",
   "metadata": {},
   "source": [
    "## 3. Benchmark Modelling <a id='modelling'></a>\n",
    "[Back to top](#table_of_contents)"
   ]
  },
  {
   "cell_type": "markdown",
   "metadata": {},
   "source": [
    "### Logistic Regression"
   ]
  },
  {
   "cell_type": "code",
   "execution_count": 46,
   "metadata": {},
   "outputs": [],
   "source": [
    "X_train, X_test, y_train, y_test = train_test_split(input_df, target_df, test_size=0.33, random_state=42)\n",
    "logreg = LogisticRegression(random_state=42, solver='lbfgs')\n",
    "logreg.fit(X_train, y_train.values.reshape(-1,))\n",
    "y_pred_log =logreg.predict(X_test)"
   ]
  },
  {
   "cell_type": "markdown",
   "metadata": {},
   "source": [
    "## 4. Model Evaluation <a id='evaluation'></a>"
   ]
  },
  {
   "cell_type": "code",
   "execution_count": 47,
   "metadata": {},
   "outputs": [
    {
     "name": "stdout",
     "output_type": "stream",
     "text": [
      "Accuracy of logistic regression classifier on test set: 0.95\n"
     ]
    }
   ],
   "source": [
    "print('Accuracy of logistic regression classifier on test set: {:.2f}'.format(logreg.score(X_test, y_test)))"
   ]
  },
  {
   "cell_type": "code",
   "execution_count": 48,
   "metadata": {},
   "outputs": [],
   "source": [
    "# predict_proba - Probability estimates\n",
    "probs = logreg.predict_proba(X_test)\n",
    "prob = probs[:,1]\n",
    "y_results = y_test.copy()\n",
    "y_results['probability'] = prob.tolist()\n",
    "y_results['pred_target'] = y_pred_log.tolist()"
   ]
  },
  {
   "cell_type": "code",
   "execution_count": 49,
   "metadata": {},
   "outputs": [
    {
     "data": {
      "text/plain": [
       "0    161596\n",
       "Name: pred_target, dtype: int64"
      ]
     },
     "execution_count": 49,
     "metadata": {},
     "output_type": "execute_result"
    }
   ],
   "source": [
    "y_results.pred_target.value_counts()"
   ]
  },
  {
   "cell_type": "code",
   "execution_count": 50,
   "metadata": {},
   "outputs": [
    {
     "data": {
      "text/plain": [
       "target\n",
       "0         311604\n",
       "1          16484\n",
       "dtype: int64"
      ]
     },
     "execution_count": 50,
     "metadata": {},
     "output_type": "execute_result"
    }
   ],
   "source": [
    "y_train.value_counts()"
   ]
  },
  {
   "cell_type": "code",
   "execution_count": 51,
   "metadata": {},
   "outputs": [
    {
     "name": "stdout",
     "output_type": "stream",
     "text": [
      "[[153346      0]\n",
      " [  8250      0]]\n"
     ]
    },
    {
     "data": {
      "image/png": "[encoded data removed]",
      "text/plain": [
       "<Figure size 216x216 with 1 Axes>"
      ]
     },
     "metadata": {
      "needs_background": "light"
     },
     "output_type": "display_data"
    }
   ],
   "source": [
    "cm = metrics.confusion_matrix(y_test, y_pred_log)\n",
    "print(cm)\n",
    "\n",
    "fig, ax = plt.subplots(figsize=(3, 3))\n",
    "ax.imshow(cm)\n",
    "ax.grid(False)\n",
    "ax.xaxis.set(ticks=(0, 1), ticklabels=('Predicted 0s', 'Predicted 1s'))\n",
    "ax.yaxis.set(ticks=(0, 1), ticklabels=('Actual 0s', 'Actual 1s'))\n",
    "ax.set_ylim(1.5, -0.5)\n",
    "for i in range(2):\n",
    "    for j in range(2):\n",
    "        ax.text(j, i, cm[i, j], ha='center', va='center', color='red')\n",
    "plt.show()"
   ]
  },
  {
   "cell_type": "code",
   "execution_count": 52,
   "metadata": {},
   "outputs": [],
   "source": [
    "#y_test['target_005'] = y_test['probability'].apply(lambda x: 1 if x>=0.05 else 0)\n",
    "#y_test['target_060'] = y_test['probability'].apply(lambda x: 1 if x>=0.6 else 0)\n",
    "#y_test['target_080'] = y_test['probability'].apply(lambda x: 1 if x>=0.8 else 0)\n",
    "#y_test['target_040'] = y_test['probability'].apply(lambda x: 1 if x>=0.4 else 0)\n",
    "#y_test['target_060'] = y_test['probability'].apply(lambda x: 1 if x>=0.6 else 0)\n",
    "#y_test['target_080'] = y_test['probability'].apply(lambda x: 1 if x>=0.8 else 0)\n",
    "#y_test\n"
   ]
  },
  {
   "cell_type": "code",
   "execution_count": 57,
   "metadata": {},
   "outputs": [
    {
     "data": {
      "text/html": [
       "<div>\n",
       "<style scoped>\n",
       "    .dataframe tbody tr th:only-of-type {\n",
       "        vertical-align: middle;\n",
       "    }\n",
       "\n",
       "    .dataframe tbody tr th {\n",
       "        vertical-align: top;\n",
       "    }\n",
       "\n",
       "    .dataframe thead th {\n",
       "        text-align: right;\n",
       "    }\n",
       "</style>\n",
       "<table border=\"1\" class=\"dataframe\">\n",
       "  <thead>\n",
       "    <tr style=\"text-align: right;\">\n",
       "      <th></th>\n",
       "      <th>target</th>\n",
       "    </tr>\n",
       "  </thead>\n",
       "  <tbody>\n",
       "    <tr>\n",
       "      <th>207774</th>\n",
       "      <td>1</td>\n",
       "    </tr>\n",
       "    <tr>\n",
       "      <th>251454</th>\n",
       "      <td>1</td>\n",
       "    </tr>\n",
       "    <tr>\n",
       "      <th>181783</th>\n",
       "      <td>0</td>\n",
       "    </tr>\n",
       "    <tr>\n",
       "      <th>330573</th>\n",
       "      <td>0</td>\n",
       "    </tr>\n",
       "    <tr>\n",
       "      <th>457925</th>\n",
       "      <td>0</td>\n",
       "    </tr>\n",
       "    <tr>\n",
       "      <th>...</th>\n",
       "      <td>...</td>\n",
       "    </tr>\n",
       "    <tr>\n",
       "      <th>131103</th>\n",
       "      <td>0</td>\n",
       "    </tr>\n",
       "    <tr>\n",
       "      <th>274322</th>\n",
       "      <td>0</td>\n",
       "    </tr>\n",
       "    <tr>\n",
       "      <th>290301</th>\n",
       "      <td>0</td>\n",
       "    </tr>\n",
       "    <tr>\n",
       "      <th>113724</th>\n",
       "      <td>0</td>\n",
       "    </tr>\n",
       "    <tr>\n",
       "      <th>262664</th>\n",
       "      <td>0</td>\n",
       "    </tr>\n",
       "  </tbody>\n",
       "</table>\n",
       "<p>161596 rows × 1 columns</p>\n",
       "</div>"
      ],
      "text/plain": [
       "        target\n",
       "207774       1\n",
       "251454       1\n",
       "181783       0\n",
       "330573       0\n",
       "457925       0\n",
       "...        ...\n",
       "131103       0\n",
       "274322       0\n",
       "290301       0\n",
       "113724       0\n",
       "262664       0\n",
       "\n",
       "[161596 rows x 1 columns]"
      ]
     },
     "execution_count": 57,
     "metadata": {},
     "output_type": "execute_result"
    }
   ],
   "source": [
    "y_test"
   ]
  },
  {
   "cell_type": "code",
   "execution_count": 62,
   "metadata": {},
   "outputs": [],
   "source": [
    "modelling_data['userid'] = modelling_data['userid'].astype(int)\n",
    "test_set = df_test.merge(modelling_data, on=['userid', 'currentbugroupname'], how='left')"
   ]
  },
  {
   "cell_type": "code",
   "execution_count": 65,
   "metadata": {},
   "outputs": [],
   "source": [
    "test_results = logreg.predict(test_set[['last_31_day_fav_count', 'last_31_day_visit_count',\n",
    "       'last_31_day_basket_count', 'last_31_day_order_quantity',\n",
    "       'last_14_day_fav_count', 'last_14_day_visit_count',\n",
    "       'last_14_day_basket_count', 'last_14_day_order_quantity',\n",
    "       'last_10_day_fav_count', 'last_10_day_visit_count',\n",
    "       'last_10_day_basket_count', 'last_10_day_order_quantity',\n",
    "       'last_5_day_fav_count', 'last_5_day_visit_count',\n",
    "       'last_5_day_basket_count', 'last_5_day_order_quantity',\n",
    "       'last_3_day_fav_count', 'last_3_day_visit_count',\n",
    "       'last_3_day_basket_count', 'last_3_day_order_quantity', 'bugroup_id',\n",
    "       'userid']])\n",
    "\n",
    "probs = logreg.predict_proba(test_set[['last_31_day_fav_count', 'last_31_day_visit_count',\n",
    "       'last_31_day_basket_count', 'last_31_day_order_quantity',\n",
    "       'last_14_day_fav_count', 'last_14_day_visit_count',\n",
    "       'last_14_day_basket_count', 'last_14_day_order_quantity',\n",
    "       'last_10_day_fav_count', 'last_10_day_visit_count',\n",
    "       'last_10_day_basket_count', 'last_10_day_order_quantity',\n",
    "       'last_5_day_fav_count', 'last_5_day_visit_count',\n",
    "       'last_5_day_basket_count', 'last_5_day_order_quantity',\n",
    "       'last_3_day_fav_count', 'last_3_day_visit_count',\n",
    "       'last_3_day_basket_count', 'last_3_day_order_quantity', 'bugroup_id',\n",
    "       'userid']])\n",
    "prob = probs[:,1]\n",
    "answer= test_set.copy()\n",
    "answer['probability'] = prob.tolist()\n",
    "answer['pred_target'] = test_results.tolist()"
   ]
  },
  {
   "cell_type": "markdown",
   "metadata": {},
   "source": [
    "### FINAL ANSWER"
   ]
  },
  {
   "cell_type": "code",
   "execution_count": 68,
   "metadata": {},
   "outputs": [
    {
     "data": {
      "text/html": [
       "<div>\n",
       "<style scoped>\n",
       "    .dataframe tbody tr th:only-of-type {\n",
       "        vertical-align: middle;\n",
       "    }\n",
       "\n",
       "    .dataframe tbody tr th {\n",
       "        vertical-align: top;\n",
       "    }\n",
       "\n",
       "    .dataframe thead th {\n",
       "        text-align: right;\n",
       "    }\n",
       "</style>\n",
       "<table border=\"1\" class=\"dataframe\">\n",
       "  <thead>\n",
       "    <tr style=\"text-align: right;\">\n",
       "      <th></th>\n",
       "      <th>userid</th>\n",
       "      <th>currentbugroupname</th>\n",
       "      <th>probability</th>\n",
       "      <th>target</th>\n",
       "    </tr>\n",
       "  </thead>\n",
       "  <tbody>\n",
       "    <tr>\n",
       "      <th>0</th>\n",
       "      <td>20152944</td>\n",
       "      <td>Private Label</td>\n",
       "      <td>0.042160</td>\n",
       "      <td>0</td>\n",
       "    </tr>\n",
       "    <tr>\n",
       "      <th>1</th>\n",
       "      <td>6662068</td>\n",
       "      <td>Private Label</td>\n",
       "      <td>0.262608</td>\n",
       "      <td>0</td>\n",
       "    </tr>\n",
       "    <tr>\n",
       "      <th>2</th>\n",
       "      <td>11941706</td>\n",
       "      <td>Private Label</td>\n",
       "      <td>0.135794</td>\n",
       "      <td>0</td>\n",
       "    </tr>\n",
       "    <tr>\n",
       "      <th>3</th>\n",
       "      <td>12406170</td>\n",
       "      <td>Private Label</td>\n",
       "      <td>0.127566</td>\n",
       "      <td>0</td>\n",
       "    </tr>\n",
       "    <tr>\n",
       "      <th>4</th>\n",
       "      <td>20939786</td>\n",
       "      <td>Private Label</td>\n",
       "      <td>0.037501</td>\n",
       "      <td>0</td>\n",
       "    </tr>\n",
       "    <tr>\n",
       "      <th>...</th>\n",
       "      <td>...</td>\n",
       "      <td>...</td>\n",
       "      <td>...</td>\n",
       "      <td>...</td>\n",
       "    </tr>\n",
       "    <tr>\n",
       "      <th>244831</th>\n",
       "      <td>24094896</td>\n",
       "      <td>Digital Goods</td>\n",
       "      <td>0.023336</td>\n",
       "      <td>0</td>\n",
       "    </tr>\n",
       "    <tr>\n",
       "      <th>244832</th>\n",
       "      <td>3625552</td>\n",
       "      <td>Digital Goods</td>\n",
       "      <td>0.363114</td>\n",
       "      <td>0</td>\n",
       "    </tr>\n",
       "    <tr>\n",
       "      <th>244833</th>\n",
       "      <td>17383254</td>\n",
       "      <td>Digital Goods</td>\n",
       "      <td>0.063329</td>\n",
       "      <td>0</td>\n",
       "    </tr>\n",
       "    <tr>\n",
       "      <th>244834</th>\n",
       "      <td>26909708</td>\n",
       "      <td>Digital Goods</td>\n",
       "      <td>0.015212</td>\n",
       "      <td>0</td>\n",
       "    </tr>\n",
       "    <tr>\n",
       "      <th>244835</th>\n",
       "      <td>28564690</td>\n",
       "      <td>Digital Goods</td>\n",
       "      <td>0.011811</td>\n",
       "      <td>0</td>\n",
       "    </tr>\n",
       "  </tbody>\n",
       "</table>\n",
       "<p>244836 rows × 4 columns</p>\n",
       "</div>"
      ],
      "text/plain": [
       "          userid currentbugroupname  probability  target\n",
       "0       20152944      Private Label     0.042160       0\n",
       "1        6662068      Private Label     0.262608       0\n",
       "2       11941706      Private Label     0.135794       0\n",
       "3       12406170      Private Label     0.127566       0\n",
       "4       20939786      Private Label     0.037501       0\n",
       "...          ...                ...          ...     ...\n",
       "244831  24094896      Digital Goods     0.023336       0\n",
       "244832   3625552      Digital Goods     0.363114       0\n",
       "244833  17383254      Digital Goods     0.063329       0\n",
       "244834  26909708      Digital Goods     0.015212       0\n",
       "244835  28564690      Digital Goods     0.011811       0\n",
       "\n",
       "[244836 rows x 4 columns]"
      ]
     },
     "execution_count": 68,
     "metadata": {},
     "output_type": "execute_result"
    }
   ],
   "source": [
    "answer[['userid', 'currentbugroupname', 'probability', 'target']]"
   ]
  },
  {
   "cell_type": "markdown",
   "metadata": {},
   "source": [
    "## FUTURE WORK"
   ]
  },
  {
   "cell_type": "markdown",
   "metadata": {},
   "source": [
    "- I would implement an algorithm that will work on datasets of different time periods. For example, on the graph where I demonstrate the total purchase over a month we see sudden peaks which refers to a significant increase in the sales. These increases can be attributed to specific sales periods such as christmas, black friday, mother's day etc. A different model could be trained for these campaign periods or a new feature can be created. \n",
    "\n",
    "- Search terms could have been used as another feature."
   ]
  }
 ],
 "metadata": {
  "interpreter": {
   "hash": "c054f5cd3b575a08ae6b64ff24b99783d2023d91ec0e2a7853dd25c8e7c19f9b"
  },
  "kernelspec": {
   "display_name": "Python 3",
   "language": "python",
   "name": "python3"
  },
  "language_info": {
   "codemirror_mode": {
    "name": "ipython",
    "version": 3
   },
   "file_extension": ".py",
   "mimetype": "text/x-python",
   "name": "python",
   "nbconvert_exporter": "python",
   "pygments_lexer": "ipython3",
   "version": "3.8.8"
  }
 },
 "nbformat": 4,
 "nbformat_minor": 2
}
